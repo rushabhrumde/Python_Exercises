{
 "cells": [
  {
   "cell_type": "code",
   "execution_count": 2,
   "metadata": {},
   "outputs": [],
   "source": [
    "import numpy as np"
   ]
  },
  {
   "cell_type": "code",
   "execution_count": 3,
   "metadata": {},
   "outputs": [
    {
     "name": "stdout",
     "output_type": "stream",
     "text": [
      "Numpy array with Rank 1 :  [1 2 3 4 5]\n"
     ]
    }
   ],
   "source": [
    "arr = np.array([1,2,3,4,5])\n",
    "print(\"Numpy array with Rank 1 : \",arr)"
   ]
  },
  {
   "cell_type": "code",
   "execution_count": 6,
   "metadata": {},
   "outputs": [
    {
     "name": "stdout",
     "output_type": "stream",
     "text": [
      "Numpy array with Rank 2 : \n",
      " [[1 2 3]\n",
      " [4 5 6]]\n"
     ]
    }
   ],
   "source": [
    "arr2 = np.array([[1,2,3],\n",
    "                 [4,5,6]])\n",
    "print(\"Numpy array with Rank 2 : \\n\",arr2)"
   ]
  },
  {
   "cell_type": "code",
   "execution_count": 7,
   "metadata": {},
   "outputs": [
    {
     "name": "stdout",
     "output_type": "stream",
     "text": [
      "Numpy array created with Tuple: (1, 2, 3)\n"
     ]
    }
   ],
   "source": [
    "arr_t = ((1,2,3))\n",
    "print(\"Numpy array created with Tuple:\",arr_t)"
   ]
  },
  {
   "cell_type": "code",
   "execution_count": 10,
   "metadata": {},
   "outputs": [
    {
     "name": "stdout",
     "output_type": "stream",
     "text": [
      "[[ 1  2  3  4]\n",
      " [ 5  6  7  8]\n",
      " [ 9 10 11 12]\n",
      " [13 14 15 16]]\n"
     ]
    }
   ],
   "source": [
    "ar = np.array([[1,2,3,4],\n",
    "                [5,6,7,8],\n",
    "                [9,10,11,12],\n",
    "                [13,14,15,16]])\n",
    "print(ar)"
   ]
  },
  {
   "cell_type": "code",
   "execution_count": 11,
   "metadata": {},
   "outputs": [
    {
     "data": {
      "text/plain": [
       "array([[1, 3],\n",
       "       [5, 7]])"
      ]
     },
     "execution_count": 11,
     "metadata": {},
     "output_type": "execute_result"
    }
   ],
   "source": [
    "sliced_ar = ar[:2,::2]\n",
    "sliced_ar "
   ]
  },
  {
   "cell_type": "code",
   "execution_count": 14,
   "metadata": {},
   "outputs": [
    {
     "data": {
      "text/plain": [
       "array([ 8,  7,  2, 13])"
      ]
     },
     "execution_count": 14,
     "metadata": {},
     "output_type": "execute_result"
    }
   ],
   "source": [
    "Index_ar = ar[[1, 1, 0, 3], \n",
    "                [3, 2, 1, 0]]\n",
    "Index_ar"
   ]
  },
  {
   "cell_type": "code",
   "execution_count": 17,
   "metadata": {},
   "outputs": [
    {
     "name": "stdout",
     "output_type": "stream",
     "text": [
      "1\n",
      "6\n",
      "11\n",
      "16\n"
     ]
    }
   ],
   "source": [
    "print(ar[0,0]) \n",
    "print(ar[1,1])\n",
    "print(ar[2,2])\n",
    "print(ar[3,3])"
   ]
  },
  {
   "cell_type": "code",
   "execution_count": 18,
   "metadata": {},
   "outputs": [],
   "source": [
    "a = np.array([[1, 2],\n",
    "              [3, 4]])\n",
    " \n",
    "b = np.array([[4, 3],\n",
    "              [2, 1]])"
   ]
  },
  {
   "cell_type": "code",
   "execution_count": 19,
   "metadata": {},
   "outputs": [
    {
     "name": "stdout",
     "output_type": "stream",
     "text": [
      "Adding 1 to every element: [[2 3]\n",
      " [4 5]]\n",
      "\n",
      "Subtracting 2 from each element: [[ 2  1]\n",
      " [ 0 -1]]\n",
      "\n",
      "Sum of all array elements:  10\n",
      "\n",
      "Array sum:\n",
      " [[5 5]\n",
      " [5 5]]\n"
     ]
    }
   ],
   "source": [
    "# Adding 1 to every element\n",
    "print (\"Adding 1 to every element:\", a + 1)\n",
    " \n",
    "# Subtracting 2 from each element\n",
    "print (\"\\nSubtracting 2 from each element:\", b - 2)\n",
    " \n",
    "# sum of array elements\n",
    "# Performing Unary operations\n",
    "print (\"\\nSum of all array \"\n",
    "       \"elements: \", a.sum())\n",
    " \n",
    "# Adding two arrays\n",
    "# Performing Binary operations\n",
    "print (\"\\nArray sum:\\n\", a + b)"
   ]
  },
  {
   "cell_type": "code",
   "execution_count": 20,
   "metadata": {},
   "outputs": [
    {
     "name": "stdout",
     "output_type": "stream",
     "text": [
      "Integer Datatype: \n",
      "int64\n",
      "\n",
      "Float Datatype: \n",
      "float64\n",
      "\n",
      "Forcing a Datatype: \n",
      "int64\n"
     ]
    }
   ],
   "source": [
    "# Integer datatype\n",
    "# guessed by Numpy\n",
    "x = np.array([1, 2])  \n",
    "print(\"Integer Datatype: \")\n",
    "print(x.dtype)         \n",
    " \n",
    "# Float datatype\n",
    "# guessed by Numpy\n",
    "x = np.array([1.0, 2.0]) \n",
    "print(\"\\nFloat Datatype: \")\n",
    "print(x.dtype)  \n",
    " \n",
    "# Forced Datatype\n",
    "x = np.array([1, 2], dtype = np.int64)   \n",
    "print(\"\\nForcing a Datatype: \")\n",
    "print(x.dtype)"
   ]
  },
  {
   "cell_type": "code",
   "execution_count": 27,
   "metadata": {},
   "outputs": [
    {
     "name": "stdout",
     "output_type": "stream",
     "text": [
      "Addition of Two Arrays: \n",
      "[[ 7 13]\n",
      " [ 4 14]]\n",
      "\n",
      "Addition of Array elements: \n",
      "19\n",
      "\n",
      "Square root of Array1 elements: \n",
      "[[2.   2.65]\n",
      " [1.41 2.45]]\n",
      "\n",
      "Transpose of Array: \n",
      "[[4 2]\n",
      " [7 6]]\n"
     ]
    }
   ],
   "source": [
    "arr1 = np.array([[4, 7], [2, 6]])\n",
    "arr2 = np.array([[3, 6], [2, 8]])\n",
    "\n",
    "                \n",
    "# Addition of two Arrays\n",
    "Sum = np.add(arr1, arr2)\n",
    "print(\"Addition of Two Arrays: \")\n",
    "print(Sum)\n",
    " \n",
    "# Addition of all Array elements using predefined sum method\n",
    "Sum1 = np.sum(arr1)\n",
    "print(\"\\nAddition of Array elements: \")\n",
    "print(Sum1)\n",
    " \n",
    "# Square root of Array\n",
    "Sqrt = np.sqrt(arr1)\n",
    "print(\"\\nSquare root of Array1 elements: \")\n",
    "sqrt=np.round((Sqrt),2)\n",
    "print(sqrt)\n",
    " \n",
    "# Transpose of Array using In-built function 'T'.\n",
    "Trans_arr = arr1.T\n",
    "print(\"\\nTranspose of Array: \")\n",
    "print(Trans_arr)"
   ]
  },
  {
   "cell_type": "code",
   "execution_count": 30,
   "metadata": {},
   "outputs": [
    {
     "name": "stdout",
     "output_type": "stream",
     "text": [
      "Type of the array is : <class 'numpy.ndarray'>\n",
      "No. od dimensions :  2\n",
      "Shape of the array :  (2, 3)\n",
      "Size of the array :  6\n",
      "Array stores element of type :  int64\n"
     ]
    }
   ],
   "source": [
    "arr = np.array([[1,2,3],\n",
    "                [4,5,6]])\n",
    "print(\"Type of the array is :\",type(arr))\n",
    "print(\"No. od dimensions : \",arr.ndim)\n",
    "print(\"Shape of the array : \",arr.shape)\n",
    "print(\"Size of the array : \",arr.size)\n",
    "print(\"Array stores element of type : \",arr.dtype)"
   ]
  },
  {
   "cell_type": "code",
   "execution_count": 39,
   "metadata": {},
   "outputs": [
    {
     "name": "stdout",
     "output_type": "stream",
     "text": [
      "Array created using list : \n",
      " [[1. 2. 3.]\n",
      " [4. 5. 6.]]\n",
      "Array created using tuple : \n",
      " [4 5 6]\n",
      "Array initialized with all Zeros : \n",
      " [[0. 0. 0. 0.]\n",
      " [0. 0. 0. 0.]\n",
      " [0. 0. 0. 0.]]\n",
      "Array initialized with all 6 : Also the array type is complex. \n",
      " [[6.+0.j 6.+0.j 6.+0.j]\n",
      " [6.+0.j 6.+0.j 6.+0.j]\n",
      " [6.+0.j 6.+0.j 6.+0.j]]\n"
     ]
    }
   ],
   "source": [
    "a = np.array([[1,2,3],[4,5,6]] , dtype='float')\n",
    "print(\"Array created using list : \\n\",a)\n",
    "\n",
    "b= np.array((4,5,6))\n",
    "print(\"Array created using tuple : \\n\",b)\n",
    "\n",
    "c = np.zeros((3,4))\n",
    "print(\"Array initialized with all Zeros : \\n\",c)\n",
    "\n",
    "d = np.full((3,3),6, dtype='complex')\n",
    "print(\"Array initialized with all 6 : Also the array type is complex. \\n\",d)\n"
   ]
  },
  {
   "cell_type": "code",
   "execution_count": 45,
   "metadata": {},
   "outputs": [
    {
     "name": "stdout",
     "output_type": "stream",
     "text": [
      "[[-1.   2.   0.   4. ]\n",
      " [ 4.  -0.5  6.   0. ]\n",
      " [ 2.6  0.   7.   8. ]\n",
      " [ 3.  -7.   4.   2. ]]\n",
      "Array with first 2 rows and alternatecolumns(0 and 2):\n",
      " [[-1.  0.]\n",
      " [ 4.  6.]]\n",
      "\n",
      "Elements at indices (0, 3), (1, 2), (2, 1),(3, 0):\n",
      " [4. 6. 0. 3.]\n",
      "\n",
      "Elements greater than 0:\n",
      " [2.  4.  4.  6.  2.6 7.  8.  3.  4.  2. ]\n"
     ]
    }
   ],
   "source": [
    "arr = np.array([[-1, 2, 0, 4],\n",
    "                [4, -0.5, 6, 0],\n",
    "                [2.6, 0, 7, 8],\n",
    "                [3, -7, 4, 2.0]])\n",
    "print(arr)\n",
    "\n",
    "temp = arr[:2,::2]\n",
    "print (\"Array with first 2 rows and alternate\"\n",
    "                    \"columns(0 and 2):\\n\", temp)\n",
    "\n",
    "tempt = arr[[0,1,2,3],[3,2,1,0]]\n",
    "print (\"\\nElements at indices (0, 3), (1, 2), (2, 1),\"\n",
    "                                    \"(3, 0):\\n\", tempt)\n",
    "\n",
    "cond = arr > 0 # cond is a boolean array\n",
    "temp = arr[cond]\n",
    "print (\"\\nElements greater than 0:\\n\", temp)"
   ]
  },
  {
   "cell_type": "code",
   "execution_count": 46,
   "metadata": {},
   "outputs": [
    {
     "name": "stdout",
     "output_type": "stream",
     "text": [
      "Adding 1 to every element: [2 3 6 4]\n",
      "Subtracting 3 from each element: [-2 -1  2  0]\n",
      "Multiplying each element by 10: [10 20 50 30]\n",
      "Squaring each element: [ 1  4 25  9]\n",
      "Doubled each element of original array: [ 2  4 10  6]\n",
      "\n",
      "Original array:\n",
      " [[1 2 3]\n",
      " [3 4 5]\n",
      " [9 6 0]]\n",
      "Transpose of array:\n",
      " [[1 3 9]\n",
      " [2 4 6]\n",
      " [3 5 0]]\n"
     ]
    }
   ],
   "source": [
    "a = np.array([1, 2, 5, 3])\n",
    "\n",
    "print (\"Adding 1 to every element:\", a+1)\n",
    "print (\"Subtracting 3 from each element:\", a-3)\n",
    "print (\"Multiplying each element by 10:\", a*10)\n",
    "print (\"Squaring each element:\", a**2)\n",
    "a *= 2\n",
    "print (\"Doubled each element of original array:\", a)\n",
    "# transpose of array\n",
    "a = np.array([[1, 2, 3], [3, 4, 5], [9, 6, 0]])\n",
    " \n",
    "print (\"\\nOriginal array:\\n\", a)\n",
    "print (\"Transpose of array:\\n\", a.T)"
   ]
  },
  {
   "cell_type": "code",
   "execution_count": 47,
   "metadata": {},
   "outputs": [
    {
     "name": "stdout",
     "output_type": "stream",
     "text": [
      "Largest element is  9\n",
      "Row-wise maximum element is  [6 7 9]\n",
      "Column-wise maximum element is  [4 7 9]\n",
      "Sum of all arrays :  <built-in method sum of numpy.ndarray object at 0x7f886b179da0>\n",
      "Cumulative sum among each row : \n",
      " [[ 1  6 12]\n",
      " [ 4 11 13]\n",
      " [ 3  4 13]]\n"
     ]
    }
   ],
   "source": [
    "arr = np.array([[1, 5, 6],\n",
    "                [4, 7, 2],\n",
    "                [3, 1, 9]])\n",
    "print(\"Largest element is \",arr.max())\n",
    "print(\"Row-wise maximum element is \",arr.max(axis=1))\n",
    "print(\"Column-wise maximum element is \",arr.max(axis=0))\n",
    "print(\"Sum of all arrays : \",arr.sum)\n",
    "print(\"Cumulative sum among each row : \\n\",arr.cumsum(axis=1))\n"
   ]
  },
  {
   "cell_type": "code",
   "execution_count": 48,
   "metadata": {},
   "outputs": [
    {
     "name": "stdout",
     "output_type": "stream",
     "text": [
      "Array sum : \n",
      " [[5 5]\n",
      " [5 5]]\n",
      "Array multiplication : \n",
      " [[4 6]\n",
      " [6 4]]\n",
      "Dot product of the matrices : \n",
      " [[ 8  5]\n",
      " [20 13]]\n"
     ]
    }
   ],
   "source": [
    "a = np.array([[1, 2],\n",
    "            [3, 4]])\n",
    "b = np.array([[4, 3],\n",
    "            [2, 1]])\n",
    " \n",
    "print(\"Array sum : \\n\",a + b)\n",
    "print(\"Array multiplication : \\n\",a*b)\n",
    "print(\"Dot product of the matrices : \\n\",a.dot(b))\n"
   ]
  },
  {
   "cell_type": "code",
   "execution_count": 49,
   "metadata": {},
   "outputs": [
    {
     "name": "stdout",
     "output_type": "stream",
     "text": [
      "Sine values of array elements: [0.0000000e+00 1.0000000e+00 1.2246468e-16]\n",
      "Exponent of array elements: [ 1.          2.71828183  7.3890561  20.08553692]\n",
      "Square root of array elements: [0.         1.         1.41421356 1.73205081]\n"
     ]
    }
   ],
   "source": [
    "a = np.array([0, np.pi/2, np.pi])\n",
    "print (\"Sine values of array elements:\", np.sin(a))\n",
    "\n",
    "a = np.array([0, 1, 2, 3])\n",
    "print (\"Exponent of array elements:\", np.exp(a))\n",
    "print (\"Square root of array elements:\", np.sqrt(a))"
   ]
  },
  {
   "cell_type": "code",
   "execution_count": 53,
   "metadata": {},
   "outputs": [
    {
     "name": "stdout",
     "output_type": "stream",
     "text": [
      "Matrix b : \n",
      " [4607182418800017408 4368955796522032135]\n",
      "\n",
      "Matrix a : \n",
      " [[0 1]\n",
      " [2 3]]\n",
      "\n",
      "Matrix c : \n",
      " [[4.9e-324 9.9e-324 1.5e-323]\n",
      " [1.5e-323 2.0e-323 2.5e-323]\n",
      " [4.4e-323 3.0e-323 0.0e+000]]\n"
     ]
    }
   ],
   "source": [
    "# Python Programming illustrating numpy.empty method\n",
    " \n",
    "import numpy as np\n",
    " \n",
    "b = np.empty(2, dtype = int)\n",
    "print(\"Matrix b : \\n\", b)\n",
    " \n",
    "a = np.empty([2, 2], dtype = int)\n",
    "print(\"\\nMatrix a : \\n\", a)\n",
    " \n",
    "c = np.empty([3, 3])\n",
    "print(\"\\nMatrix c : \\n\", c)\n"
   ]
  },
  {
   "cell_type": "code",
   "execution_count": 54,
   "metadata": {},
   "outputs": [
    {
     "name": "stdout",
     "output_type": "stream",
     "text": [
      "Matrix b : \n",
      " [0 0]\n",
      "\n",
      "Matrix a : \n",
      " [[0 0]\n",
      " [0 0]]\n",
      "\n",
      "Matrix c : \n",
      " [[0. 0. 0.]\n",
      " [0. 0. 0.]\n",
      " [0. 0. 0.]]\n"
     ]
    }
   ],
   "source": [
    "# Python Program illustrating numpy.zeros method\n",
    " \n",
    "import numpy as np\n",
    " \n",
    "b = np.zeros(2, dtype = int)\n",
    "print(\"Matrix b : \\n\", b)\n",
    " \n",
    "a = np.zeros([2, 2], dtype = int)\n",
    "print(\"\\nMatrix a : \\n\", a)\n",
    " \n",
    "c = np.zeros([3, 3])\n",
    "print(\"\\nMatrix c : \\n\", c)"
   ]
  },
  {
   "cell_type": "code",
   "execution_count": 57,
   "metadata": {},
   "outputs": [
    {
     "name": "stdout",
     "output_type": "stream",
     "text": [
      "Original array : \n",
      " [0 1 2 3 4 5 6 7]\n",
      "Array with 2 rows and 4 columns : \n",
      " [[0 1 2 3]\n",
      " [4 5 6 7]]\n",
      "Array with 4 rows and 2 columns : \n",
      " [[0 1]\n",
      " [2 3]\n",
      " [4 5]\n",
      " [6 7]]\n",
      "Array with reshaped to 3D : \n",
      " [[[0 1]\n",
      "  [2 3]]\n",
      "\n",
      " [[4 5]\n",
      "  [6 7]]]\n"
     ]
    }
   ],
   "source": [
    "array = np.arange(8)\n",
    "print(\"Original array : \\n\",array)\n",
    "\n",
    "array1=np.arange(8).reshape(2,4)\n",
    "print(\"Array with 2 rows and 4 columns : \\n\",array1)\n",
    "\n",
    "array2=np.arange(8).reshape(4,2)\n",
    "print(\"Array with 4 rows and 2 columns : \\n\",array2)\n",
    "\n",
    "array3 = np.arange(8).reshape(2,2,2)\n",
    "print(\"Array with reshaped to 3D : \\n\",array3)\n"
   ]
  },
  {
   "cell_type": "code",
   "execution_count": 58,
   "metadata": {},
   "outputs": [
    {
     "name": "stdout",
     "output_type": "stream",
     "text": [
      "A\n",
      " [[0 1]\n",
      " [2 3]] \n",
      "\n",
      "A\n",
      " [4 5 6 7 8 9] \n",
      "\n",
      "A\n",
      " [ 4  7 10 13 16 19] \n",
      "\n"
     ]
    }
   ],
   "source": [
    "print(\"A\\n\",np.arange(4).reshape(2,2),\"\\n\")\n",
    "print(\"A\\n\",np.arange(4,10),\"\\n\")\n",
    "print(\"A\\n\",np.arange(4,20,3),\"\\n\")"
   ]
  },
  {
   "cell_type": "code",
   "execution_count": 59,
   "metadata": {},
   "outputs": [
    {
     "name": "stdout",
     "output_type": "stream",
     "text": [
      "B\n",
      " (array([2.  , 2.25, 2.5 , 2.75, 3.  ]), 0.25) \n",
      "\n",
      "A\n",
      " [0.         0.22039774 0.42995636 0.6183698  0.77637192 0.8961922\n",
      " 0.9719379  0.99988386 0.9786557  0.90929743]\n"
     ]
    }
   ],
   "source": [
    "print(\"B\\n\", np.linspace(2.0, 3.0, num=5, retstep=True), \"\\n\")\n",
    "\n",
    "# To evaluate sin() in long range \n",
    "x = np.linspace(0, 2, 10)\n",
    "print(\"A\\n\", np.sin(x))\n"
   ]
  },
  {
   "cell_type": "code",
   "execution_count": 61,
   "metadata": {},
   "outputs": [
    {
     "name": "stdout",
     "output_type": "stream",
     "text": [
      "(Matrix([\n",
      "[1, 0, -1],\n",
      "[0, 1,  2],\n",
      "[0, 0,  0]]), (0, 1))\n"
     ]
    }
   ],
   "source": [
    "arr = Matrix ([[1,2,3],[4,5,6],[7,8,9]])\n",
    "from sympy import *\n",
    "ref = arr.rref()\n",
    "print(ref)"
   ]
  },
  {
   "cell_type": "code",
   "execution_count": 63,
   "metadata": {},
   "outputs": [
    {
     "name": "stdout",
     "output_type": "stream",
     "text": [
      "[ 6 14 24 36 50]\n"
     ]
    }
   ],
   "source": [
    "list1 = [1,2,3,4,5]\n",
    "list2 = [6,7,8,9,10]\n",
    "#print(list1*list2)     #Directly printing this would give out an error.\n",
    "\n",
    "list_1 = np.array(list1)\n",
    "list_2 = np.array(list2)\n",
    "print(list_1*list_2)"
   ]
  },
  {
   "cell_type": "code",
   "execution_count": 69,
   "metadata": {},
   "outputs": [
    {
     "name": "stdout",
     "output_type": "stream",
     "text": [
      "An array with a negative step :  [10  8  6  4  2]\n",
      "\n",
      " Elements are : \n",
      " [2 4 7]\n",
      "Elements at the above index : \n",
      " [8 6 4]\n"
     ]
    }
   ],
   "source": [
    "a = np.arange(10,1,-2)\n",
    "print(\"An array with a negative step : \",a)\n",
    "\n",
    "x = np.array([1, 2, 3, 4, 5, 6, 7, 8, 9])\n",
    "# Index values can be negative.\n",
    "arr = x[np.array([1, 3, -3])]\n",
    "print(\"\\n Elements are : \\n\",arr)\n",
    "\n",
    "new_arr = a[np.array([1,2,3])]     \n",
    "print(\"Elements at the above index : \\n\",new_arr)    #Elements at index 1,2,3"
   ]
  },
  {
   "cell_type": "code",
   "execution_count": 72,
   "metadata": {},
   "outputs": [
    {
     "name": "stdout",
     "output_type": "stream",
     "text": [
      "Array is : \n",
      "  [ 0  1  2  3  4  5  6  7  8  9 10 11 12 13 14 15 16 17 18 19]\n",
      "\n",
      " a[-8:17:1]  =  [12 13 14 15 16]\n",
      "\n",
      " a[10:]  =  [10 11 12 13 14 15 16 17 18 19]\n"
     ]
    }
   ],
   "source": [
    "a = np.arange(20)\n",
    "print(\"Array is : \\n \",a)\n",
    "\n",
    "# a[start:stop:step]\n",
    "print(\"\\n a[-8:17:1]  = \",a[-8:17:1]) \n",
    "\n",
    "# The : operator means all elements till the end.\n",
    "print(\"\\n a[10:]  = \",a[10:])"
   ]
  },
  {
   "cell_type": "code",
   "execution_count": 91,
   "metadata": {},
   "outputs": [
    {
     "name": "stdout",
     "output_type": "stream",
     "text": [
      "[[ 1  2  3  4  5]\n",
      " [ 6  7  8  9 10]\n",
      " [11 12 13 14 15]\n",
      " [16 17 18 19 20]]\n",
      "\n",
      " a[0,3:5] :  [4 5]\n",
      "\n",
      " a[4:, 4:]  =  [[19 20]]\n",
      "\n",
      " a[:, 2]  =  [ 3  8 13 18]\n",
      "\n",
      " a[2::2, ::2]  =  [[11 13 15]]\n"
     ]
    }
   ],
   "source": [
    "arr = np.array([[1,2,3,4,5],\n",
    "                [6,7,8,9,10],\n",
    "                [11,12,13,14,15],\n",
    "                [16,17,18,19,20]])\n",
    "print(arr)\n",
    "\n",
    "print(\"\\n a[0,3:5] : \",arr[0,3:5])\n",
    "print(\"\\n a[4:, 4:]  = \",arr[3:, 3:]) \n",
    "print(\"\\n a[:, 2]  = \",arr[:, 2]) \n",
    "print(\"\\n a[2::2, ::2]  = \",arr[2::2, ::2]) "
   ]
  },
  {
   "cell_type": "code",
   "execution_count": 93,
   "metadata": {},
   "outputs": [
    {
     "name": "stdout",
     "output_type": "stream",
     "text": [
      "[1600 6400]\n"
     ]
    }
   ],
   "source": [
    "# You may wish to square the multiples of 40 \n",
    "a = np.array([10, 40, 80, 50, 100])\n",
    "print(a[a%40==0]**2)"
   ]
  },
  {
   "cell_type": "code",
   "execution_count": 94,
   "metadata": {},
   "outputs": [
    {
     "name": "stdout",
     "output_type": "stream",
     "text": [
      "[[ 5  5]\n",
      " [16  4]]\n"
     ]
    }
   ],
   "source": [
    "# You may wish to select those elements whose sum of row is a multiple of 10.\n",
    "b = np.array([[5, 5],[4, 5],[16, 4]])\n",
    "sumrow = b.sum(-1)\n",
    "print(b[sumrow%10==0])"
   ]
  },
  {
   "cell_type": "code",
   "execution_count": 96,
   "metadata": {},
   "outputs": [
    {
     "name": "stdout",
     "output_type": "stream",
     "text": [
      "('John', [6., 7.])\n",
      "Grades of John are:  [6. 7.]\n",
      "Names are:  ['Sarah' 'John']\n"
     ]
    }
   ],
   "source": [
    "dt = np.dtype([('name', np.unicode_, 16),\n",
    "               ('grades', np.float64, (2,))])\n",
    "\n",
    "x = np.array([('Sarah', (8.0, 7.0)),\n",
    "              ('John', (6.0, 7.0))], dtype=dt)\n",
    " \n",
    "print(x[1])\n",
    " \n",
    "print(\"Grades of John are: \", x[1]['grades'])\n",
    "print(\"Names are: \", x['name'])"
   ]
  },
  {
   "cell_type": "code",
   "execution_count": 107,
   "metadata": {},
   "outputs": [
    {
     "name": "stdout",
     "output_type": "stream",
     "text": [
      "[ 0  1  2  3  4  5  6  7  8  9 10 11]\n",
      "[[ 0  1  2  3]\n",
      " [ 4  5  6  7]\n",
      " [ 8  9 10 11]]\n",
      "[[ 0  4  8]\n",
      " [ 1  5  9]\n",
      " [ 2  6 10]\n",
      " [ 3  7 11]]\n"
     ]
    }
   ],
   "source": [
    "a = np.arange(12)\n",
    "print(a)\n",
    "a_1 = a.reshape(3,4)\n",
    "print(a_1)\n",
    "a_t =a_1.T\n",
    "print(a_t)"
   ]
  },
  {
   "cell_type": "code",
   "execution_count": 111,
   "metadata": {},
   "outputs": [
    {
     "name": "stdout",
     "output_type": "stream",
     "text": [
      "Input array : \n",
      " [0.5, 1.5, 2.5, 3.5, 4.5, 10.1]\n",
      "\n",
      "Rounded values : \n",
      " [ 0.  2.  2.  4.  4. 10.]\n",
      "\n",
      "Rounded values : \n",
      " [ 0.  2.  2.  4.  4. 10.]\n",
      "\n",
      "Input array : \n",
      " [0.53, 1.54, 0.71]\n",
      "\n",
      "Rounded values : \n",
      " [1. 2. 1.]\n",
      "\n",
      "Rounded values : \n",
      " [1. 2. 1.]\n",
      "\n",
      "Input array : \n",
      " [0.5538, 1.33354, 0.71445]\n",
      "\n",
      "Rounded values : \n",
      " [0.554 1.334 0.714]\n",
      "\n",
      "Rounded values : \n",
      " [0.554 1.334 0.714]\n"
     ]
    }
   ],
   "source": [
    "in_array = [.5, 1.5, 2.5, 3.5, 4.5, 10.1]\n",
    "print (\"Input array : \\n\", in_array)\n",
    " \n",
    "round_off_values = np.around(in_array)\n",
    "print (\"\\nRounded values : \\n\", round_off_values)\n",
    "\n",
    "#round_\n",
    "round_off_values = np.round_(in_array)\n",
    "print (\"\\nRounded values : \\n\", round_off_values)\n",
    "\n",
    "in_array = [.53, 1.54, .71]\n",
    "print (\"\\nInput array : \\n\", in_array)\n",
    " \n",
    "round_off_values = np.around(in_array)\n",
    "print (\"\\nRounded values : \\n\", round_off_values)\n",
    "\n",
    "#round_\n",
    "round_off_values = np.round_(in_array)\n",
    "print (\"\\nRounded values : \\n\", round_off_values)\n",
    " \n",
    "in_array = [.5538, 1.33354, .71445]\n",
    "print (\"\\nInput array : \\n\", in_array)\n",
    " \n",
    "round_off_values = np.around(in_array, decimals = 3)\n",
    "print (\"\\nRounded values : \\n\", round_off_values)\n",
    "\n",
    "#round_\n",
    "round_off_values = np.round_(in_array, decimals = 3)\n",
    "print (\"\\nRounded values : \\n\", round_off_values)"
   ]
  },
  {
   "cell_type": "code",
   "execution_count": 112,
   "metadata": {},
   "outputs": [
    {
     "name": "stdout",
     "output_type": "stream",
     "text": [
      "Input array :  [1, 3, 5]\n",
      "Output array :  [  2.71828183  20.08553692 148.4131591 ]\n"
     ]
    }
   ],
   "source": [
    "in_array = [1, 3, 5]\n",
    "print (\"Input array : \", in_array)\n",
    " \n",
    "out_array = np.exp(in_array)    #Exp function\n",
    "print (\"Output array : \", out_array)"
   ]
  },
  {
   "cell_type": "code",
   "execution_count": 113,
   "metadata": {},
   "outputs": [
    {
     "name": "stdout",
     "output_type": "stream",
     "text": [
      "Input array :  [1, 3, 5, 256]\n",
      "Output array :  [0.         1.09861229 1.60943791 5.54517744]\n",
      "\n",
      "np.log(4**4) :  5.545177444479562\n",
      "np.log(2**8) :  5.545177444479562\n"
     ]
    }
   ],
   "source": [
    "# log() function \n",
    "in_array = [1, 3, 5, 2**8]\n",
    "print (\"Input array : \", in_array)\n",
    " \n",
    "out_array = np.log(in_array)\n",
    "print (\"Output array : \", out_array)\n",
    " \n",
    " \n",
    "print(\"\\nnp.log(4**4) : \", np.log(4**4))\n",
    "print(\"np.log(2**8) : \", np.log(2**8))"
   ]
  },
  {
   "cell_type": "code",
   "execution_count": 114,
   "metadata": {},
   "outputs": [
    {
     "name": "stdout",
     "output_type": "stream",
     "text": [
      "Input  number :  2.0\n",
      "Output number :  0.5\n"
     ]
    }
   ],
   "source": [
    "in_num = 2.0\n",
    "print (\"Input  number : \", in_num)\n",
    " \n",
    "out_num = np.reciprocal(in_num)\n",
    "print (\"Output number : \", out_num)"
   ]
  },
  {
   "cell_type": "code",
   "execution_count": 117,
   "metadata": {},
   "outputs": [
    {
     "name": "stdout",
     "output_type": "stream",
     "text": [
      "arr1 :  [2, 27, 2, 21, 23]\n",
      "arr2 :  [2, 3, 4, 5, 6]\n",
      "\n",
      "Output array : \n",
      " [1.         9.         0.5        4.2        3.83333333]\n"
     ]
    }
   ],
   "source": [
    "# divide() function\n",
    " \n",
    "# input_array\n",
    "arr1 = [2, 27, 2, 21, 23]\n",
    "arr2 = [2, 3, 4, 5, 6]\n",
    "print (\"arr1 : \", arr1)\n",
    "print (\"arr2 : \", arr2)\n",
    " \n",
    "# output_array\n",
    "out = np.divide(arr1, arr2)\n",
    "print (\"\\nOutput array : \\n\", out)"
   ]
  },
  {
   "cell_type": "code",
   "execution_count": 118,
   "metadata": {},
   "outputs": [
    {
     "name": "stdout",
     "output_type": "stream",
     "text": [
      "Output conjugated complex number of  2+4j :  (2-4j)\n",
      "Output conjugated complex number of 5-8j:  (5+8j)\n"
     ]
    }
   ],
   "source": [
    "in_complx1 = 2+4j\n",
    "out_complx1 = np.conj(in_complx1)\n",
    "print (\"Output conjugated complex number of  2+4j : \", out_complx1)\n",
    " \n",
    "in_complx2 =5-8j\n",
    "out_complx2 = np.conj(in_complx2)\n",
    "print (\"Output conjugated complex number of 5-8j: \", out_complx2)"
   ]
  },
  {
   "cell_type": "code",
   "execution_count": 119,
   "metadata": {},
   "outputs": [
    {
     "name": "stdout",
     "output_type": "stream",
     "text": [
      "cbrt Value of arr1 : \n",
      " [  1.  30.   4. -10.]\n",
      "\n",
      "cbrt Value of arr2 :  [10.0793684 -5.0396842]\n"
     ]
    }
   ],
   "source": [
    "# cbrt () function\n",
    "#Cube root.\n",
    "  \n",
    "arr1 = [1, 27000, 64, -1000]\n",
    "print (\"cbrt Value of arr1 : \\n\", np.cbrt(arr1))\n",
    "  \n",
    "arr2 = [1024 ,-128]\n",
    "print (\"\\ncbrt Value of arr2 : \", np.cbrt(arr2))"
   ]
  },
  {
   "cell_type": "code",
   "execution_count": 120,
   "metadata": {},
   "outputs": [
    {
     "name": "stdout",
     "output_type": "stream",
     "text": [
      "Input array :  [1, 2, 3, 4, 5, 6, 7, 8]\n",
      "Output array :  [2 2 3 4 5 6 6 6]\n"
     ]
    }
   ],
   "source": [
    "#Clip min and max values to array function.\n",
    "\n",
    "in_array = [1, 2, 3, 4, 5, 6, 7, 8 ]\n",
    "print (\"Input array : \", in_array)\n",
    " \n",
    "out_array = np.clip(in_array, a_min = 2, a_max = 6)\n",
    "print (\"Output array : \", out_array)"
   ]
  },
  {
   "cell_type": "code",
   "execution_count": 136,
   "metadata": {},
   "outputs": [
    {
     "name": "stdout",
     "output_type": "stream",
     "text": [
      "['Rushabh', 'Shekhar', 'Rumde']\n",
      "Rushabh\n",
      "Rumde\n",
      "RUMDE\n",
      "rushabh\n",
      "['Rushabh', 'Shekhar', 'Rumde']\n"
     ]
    }
   ],
   "source": [
    "# numpy.split() function\n",
    "\n",
    "# splitting a string\n",
    "print(np.char.split('Rushabh Shekhar Rumde'))\n",
    "print(np.char.capitalize('rushabh'))\n",
    "print(np.char.title('rumde'))\n",
    "print(np.char.upper('rumde'))\n",
    "print(np.char.strip('rushabh'))\n",
    "# splitting a string\n",
    "print(np.char.split('Rushabh,Shekhar,Rumde', sep = ','))"
   ]
  },
  {
   "cell_type": "code",
   "execution_count": 123,
   "metadata": {},
   "outputs": [
    {
     "name": "stdout",
     "output_type": "stream",
     "text": [
      "r-u-s-h-a-b-h\n",
      "['r-u-s-h-a-b-h' 'r:u:m:d:e']\n"
     ]
    }
   ],
   "source": [
    "# numpy.join() function\n",
    "\n",
    "# splitting a string\n",
    "print(np.char.join('-', 'rushabh'))\n",
    " \n",
    "# splitting a string\n",
    "print(np.char.join(['-', ':'], ['rushabh', 'rumde']))"
   ]
  },
  {
   "cell_type": "code",
   "execution_count": 137,
   "metadata": {},
   "outputs": [
    {
     "name": "stdout",
     "output_type": "stream",
     "text": [
      "[ 0 -1  0]\n",
      "[-1  0 -1]\n"
     ]
    }
   ],
   "source": [
    "# numpy.rfind() function .  If not found then it returns -1.\n",
    "\n",
    "a=np.array(['geeks', 'for', 'geeks'])\n",
    " \n",
    "# counting a substring\n",
    "print(np.char.rfind(a,'geek'))\n",
    " \n",
    "# counting a substring\n",
    "print(np.char.rfind(a, 'fo'))"
   ]
  },
  {
   "cell_type": "code",
   "execution_count": 138,
   "metadata": {},
   "outputs": [
    {
     "name": "stdout",
     "output_type": "stream",
     "text": [
      "[1 0 1]\n",
      "[0 1 0]\n"
     ]
    }
   ],
   "source": [
    "# numpy.count() function returns the number of occurrences of a substring in the given string.\n",
    "\n",
    "a=np.array(['geeks', 'for', 'geeks'])\n",
    " \n",
    "# counting a substring\n",
    "print(np.char.count(a,'geek'))\n",
    " \n",
    "# counting a substring\n",
    "print(np.char.count(a, 'fo'))"
   ]
  },
  {
   "cell_type": "code",
   "execution_count": 3,
   "metadata": {},
   "outputs": [
    {
     "name": "stdout",
     "output_type": "stream",
     "text": [
      "False\n"
     ]
    }
   ],
   "source": [
    "import numpy as np\n",
    "# using equal() method\n",
    "a=np.char.equal('geeks','for')\n",
    "print(a)\n"
   ]
  },
  {
   "cell_type": "code",
   "execution_count": 10,
   "metadata": {},
   "outputs": [
    {
     "name": "stdout",
     "output_type": "stream",
     "text": [
      "Rank of this array A is : 3\n",
      "Trace of A is : 11\n",
      "Determinant of A is : -306.0\n",
      "Inverse of A is :\n",
      " [[ 0.17647059 -0.00326797 -0.02287582]\n",
      " [ 0.05882353 -0.13071895  0.08496732]\n",
      " [-0.11764706  0.1503268   0.05228758]]\n",
      "Matrix A raise to the power 3 : \n",
      " [[336 162 228]\n",
      " [406 162 469]\n",
      " [698 702 905]]\n"
     ]
    }
   ],
   "source": [
    "A = np.array([[6,1,1],\n",
    "             [4,-2,5],\n",
    "             [2,8,7]])\n",
    "print(\"Rank of this array A is :\",np.linalg.matrix_rank(A))\n",
    "\n",
    "print(\"Trace of A is :\",np.trace(A))\n",
    "\n",
    "print(\"Determinant of A is :\",np.linalg.det(A))\n",
    "\n",
    "print(\"Inverse of A is :\\n\",np.linalg.inv(A))\n",
    "\n",
    "print(\"Matrix A raise to the power 3 : \\n\",np.linalg.matrix_power(A,3))"
   ]
  },
  {
   "cell_type": "code",
   "execution_count": 15,
   "metadata": {},
   "outputs": [
    {
     "name": "stdout",
     "output_type": "stream",
     "text": [
      "Matrix : \n",
      " [[ 1.+0.j -0.-2.j]\n",
      " [ 0.+2.j  5.+0.j]]\n",
      "Eigen Value :  [0.17157288 5.82842712]\n",
      "Eigen Value : \n",
      " [[-0.92387953-0.j         -0.38268343+0.j        ]\n",
      " [ 0.        +0.38268343j  0.        -0.92387953j]]\n"
     ]
    }
   ],
   "source": [
    "from numpy import linalg as ling\n",
    "a = np.array([[1,-2j],[2j,5]])\n",
    "print(\"Matrix : \\n\",a)\n",
    "\n",
    "c,d = ling.eigh(a)             #Eighen Values\n",
    "print(\"Eigen Value : \",c)\n",
    "print(\"Eigen Value : \\n\",d)"
   ]
  },
  {
   "cell_type": "code",
   "execution_count": 16,
   "metadata": {},
   "outputs": [
    {
     "name": "stdout",
     "output_type": "stream",
     "text": [
      "Matrix  : \n",
      " [[1 0 0]\n",
      " [0 2 0]\n",
      " [0 0 3]]\n",
      "Eigen Value :  [1. 2. 3.]\n",
      "Eigen Value : \n",
      " [[1. 0. 0.]\n",
      " [0. 1. 0.]\n",
      " [0. 0. 1.]]\n"
     ]
    }
   ],
   "source": [
    "b = np.diag((1,2,3))\n",
    "print(\"Matrix  : \\n\",b)\n",
    "\n",
    "c,d = ling.eigh(b)        #Eighen Values\n",
    "print(\"Eigen Value : \",c)\n",
    "print(\"Eigen Value : \\n\",d)"
   ]
  },
  {
   "cell_type": "code",
   "execution_count": 20,
   "metadata": {},
   "outputs": [
    {
     "name": "stdout",
     "output_type": "stream",
     "text": [
      "Dot product of Scalar values : 20\n",
      "Dot product of Scalar Values : (-7+22j)\n"
     ]
    }
   ],
   "source": [
    "product = np.dot(5,4)        #Dot product\n",
    "print(\"Dot product of Scalar values :\",product)\n",
    "\n",
    "\n",
    "#1D\n",
    "vector_a = 2 + 3j\n",
    "vector_b = 4 + 5j\n",
    "product_v = np.dot(vector_a,vector_b)\n",
    "print(\"Dot product of Scalar Values :\",product_v)"
   ]
  },
  {
   "cell_type": "code",
   "execution_count": 21,
   "metadata": {},
   "outputs": [
    {
     "name": "stdout",
     "output_type": "stream",
     "text": [
      "Dot product of Scalar Values : (23-2j)\n"
     ]
    }
   ],
   "source": [
    "vector_a = 2 + 3j\n",
    "vector_b = 4 + 5j\n",
    "product_v = np.vdot(vector_a,vector_b)     #V.dot for vectors\n",
    "print(\"Dot product of Scalar Values :\",product_v)"
   ]
  },
  {
   "cell_type": "code",
   "execution_count": 23,
   "metadata": {},
   "outputs": [
    {
     "name": "stdout",
     "output_type": "stream",
     "text": [
      "SOlutions of the linear equations :  [2. 3.]\n"
     ]
    }
   ],
   "source": [
    "a = np.array([[1,2],[3,4]])\n",
    "b = np.array([8,18])\n",
    "print(\"SOlutions of the linear equations : \",np.linalg.solve(a,b))"
   ]
  },
  {
   "cell_type": "code",
   "execution_count": 29,
   "metadata": {},
   "outputs": [
    {
     "name": "stderr",
     "output_type": "stream",
     "text": [
      "/Users/rushabhrumde/opt/anaconda3/lib/python3.7/site-packages/ipykernel_launcher.py:9: FutureWarning: `rcond` parameter will change to the default of machine precision times ``max(M, N)`` where M and N are the input matrix dimensions.\n",
      "To use the future default and silence this warning we advise to pass `rcond=None`, to keep using the old, explicitly pass `rcond=-1`.\n",
      "  if __name__ == '__main__':\n"
     ]
    },
    {
     "data": {
      "image/png": "[encoded data removed]",
      "text/plain": [
       "<Figure size 432x288 with 1 Axes>"
      ]
     },
     "metadata": {
      "needs_background": "light"
     },
     "output_type": "display_data"
    }
   ],
   "source": [
    "# numpy.linalg.lstsq() method\n",
    "import numpy as np\n",
    "import matplotlib.pyplot as plt\n",
    "x = np.arange(0,9)\n",
    "A = np.array([x,np.ones(9)])\n",
    "\n",
    "y = [19, 20, 20.5, 21.5, 22, 23, 23, 25.5, 24]\n",
    "# obtaining the parameters of regression line\n",
    "w = np.linalg.lstsq(A.T,y)[0]\n",
    "\n",
    "line = w[0]*x + w[1]    #Regression line\n",
    "plt.plot(x,line,'-r')\n",
    "plt.plot(x,y,'o')\n",
    "plt.show()"
   ]
  },
  {
   "cell_type": "code",
   "execution_count": 33,
   "metadata": {},
   "outputs": [
    {
     "name": "stdout",
     "output_type": "stream",
     "text": [
      "Along X axis : \n",
      " [[10  1]\n",
      " [12 15]]\n",
      "Along Y axis : \n",
      " [[12 15]\n",
      " [ 1 10]]\n",
      "Along none axis [ 1 10 12 15]\n"
     ]
    }
   ],
   "source": [
    "a = np.array([[12,15],[10,1]])\n",
    "arr1 = np.sort(a,axis = 0)\n",
    "print(\"Along X axis : \\n\",arr1)\n",
    "arr2 = np.sort(a , axis = -1 )\n",
    "print(\"Along Y axis : \\n\",arr2)\n",
    "arr3 = np.sort(a,axis=None)\n",
    "print(\"Along none axis\",arr3)"
   ]
  },
  {
   "cell_type": "code",
   "execution_count": 35,
   "metadata": {},
   "outputs": [
    {
     "name": "stdout",
     "output_type": "stream",
     "text": [
      "Input array : \n",
      " [0 1 2 3 4 5 6 7]\n",
      "Indices of the min element :  0\n"
     ]
    }
   ],
   "source": [
    "array = np.arange(8)\n",
    "print(\"Input array : \\n\",array)\n",
    "\n",
    "# returning Indices of the min element\n",
    "print(\"Indices of the min element : \",np.argmin(array,axis=0))"
   ]
  },
  {
   "cell_type": "code",
   "execution_count": 38,
   "metadata": {},
   "outputs": [
    {
     "name": "stdout",
     "output_type": "stream",
     "text": [
      "Number of non zero values is :  5\n",
      "Number of non zero values is :  5\n"
     ]
    }
   ],
   "source": [
    "#count_nonzero\n",
    "a = np.count_nonzero([[0,1,7,0,0],[3,0,0,2,19]])\n",
    "b = np.count_nonzero(([[0,1,7,0,0],[3,0,0,2,19]]))\n",
    "print(\"Number of non zero values is : \",a)\n",
    "print(\"Number of non zero values is : \",b)"
   ]
  },
  {
   "cell_type": "code",
   "execution_count": 45,
   "metadata": {},
   "outputs": [
    {
     "name": "stdout",
     "output_type": "stream",
     "text": [
      "1D array with random integers :  [3 0 3 1 1]\n",
      "2D array with random integers : \n",
      " [[4 1 6]\n",
      " [7 1 1]]\n",
      "3D array with random integers : \n",
      " [[[9 8 2 6]\n",
      "  [9 9 8 8]\n",
      "  [5 6 2 6]]\n",
      "\n",
      " [[8 8 9 7]\n",
      "  [5 8 3 7]\n",
      "  [6 8 6 9]]]\n"
     ]
    }
   ],
   "source": [
    "#Sampling using Randint()\n",
    "\n",
    "out_arr = np.random.randint(low = 0, high = 4, size = 5 )\n",
    "print(\"1D array with random integers : \",out_arr)\n",
    "\n",
    "out_arr2 = np.random.randint(low = 1,high =9 ,size = (2,3))\n",
    "print(\"2D array with random integers : \\n\",out_arr2)\n",
    "\n",
    "out_arr3 = np.random.randint(low = 2,high = 10,size = (2,3,4))\n",
    "print(\"3D array with random integers : \\n\",out_arr3)\n",
    "\n"
   ]
  },
  {
   "cell_type": "code",
   "execution_count": 51,
   "metadata": {},
   "outputs": [
    {
     "name": "stdout",
     "output_type": "stream",
     "text": [
      "Output random float value :  0.9832222969521857\n",
      "2D output random sample : \n",
      " [[0.61287839 0.1320757  0.82439499]\n",
      " [0.92734779 0.12967153 0.11488024]]\n",
      "3D output random sample :\n",
      " [[[0.20465284]\n",
      "  [0.71511447]]\n",
      "\n",
      " [[0.1923946 ]\n",
      "  [0.38579295]]\n",
      "\n",
      " [[0.7638752 ]\n",
      "  [0.89428521]]]\n"
     ]
    }
   ],
   "source": [
    "#random_sample() function\n",
    "\n",
    "out_val = np.random.random_sample()\n",
    "print(\"Output random float value : \",out_val)\n",
    "\n",
    "out_val2 = np.random.random_sample(size = (2,3))  #2 rows and 3 columns.\n",
    "print(\"2D output random sample : \\n\",out_val2)\n",
    "\n",
    "out_val3 = np.random.random_sample((3,2,1))\n",
    "print(\"3D output random sample :\\n\",out_val3)"
   ]
  },
  {
   "cell_type": "code",
   "execution_count": 54,
   "metadata": {},
   "outputs": [
    {
     "name": "stdout",
     "output_type": "stream",
     "text": [
      "Output random float value :  0.34499548475820285\n",
      "Output 2D Array filled with random floats : \n",
      " [[0.65150577]\n",
      " [0.59825337]]\n",
      "Output 3D Array filled with random floats : \n",
      " [[[0.3346499  0.01219033]\n",
      "  [0.48209052 0.39547991]\n",
      "  [0.02022972 0.66733097]]\n",
      "\n",
      " [[0.79474627 0.65976118]\n",
      "  [0.87683572 0.99154898]\n",
      "  [0.34418111 0.94681523]]\n",
      "\n",
      " [[0.29477226 0.92685872]\n",
      "  [0.30095507 0.01547799]\n",
      "  [0.28258469 0.80695634]]]\n"
     ]
    }
   ],
   "source": [
    "#ranf() function\n",
    "\n",
    "out_val = np.random.ranf() \n",
    "print (\"Output random float value : \", out_val)\n",
    "\n",
    "out_arr2 = np.random.ranf(size =(2, 1)) \n",
    "print (\"Output 2D Array filled with random floats : \\n\", out_arr2) \n",
    "\n",
    "out_arr3 = np.random.ranf((3, 3, 2)) \n",
    "print (\"Output 3D Array filled with random floats : \\n\", out_arr3)"
   ]
  },
  {
   "cell_type": "code",
   "execution_count": 56,
   "metadata": {},
   "outputs": [
    {
     "name": "stdout",
     "output_type": "stream",
     "text": [
      "Output 1D Array filled with random integers :  [4 0 3 4]\n",
      "Output 2D Array filled with random integers : \n",
      " [[3 3 3]\n",
      " [1 3 2]\n",
      " [3 3 3]]\n",
      "Output 3D Array filled with random integers : \n",
      " [[[1 3 2]\n",
      "  [1 3 2]]\n",
      "\n",
      " [[1 5 6]\n",
      "  [3 6 4]]]\n"
     ]
    },
    {
     "name": "stderr",
     "output_type": "stream",
     "text": [
      "/Users/rushabhrumde/opt/anaconda3/lib/python3.7/site-packages/ipykernel_launcher.py:3: DeprecationWarning: This function is deprecated. Please call randint(0, 5 + 1) instead\n",
      "  This is separate from the ipykernel package so we can avoid doing imports until\n",
      "/Users/rushabhrumde/opt/anaconda3/lib/python3.7/site-packages/ipykernel_launcher.py:6: DeprecationWarning: This function is deprecated. Please call randint(1, 3 + 1) instead\n",
      "  \n",
      "/Users/rushabhrumde/opt/anaconda3/lib/python3.7/site-packages/ipykernel_launcher.py:9: DeprecationWarning: This function is deprecated. Please call randint(1, 6 + 1) instead\n",
      "  if __name__ == '__main__':\n"
     ]
    }
   ],
   "source": [
    "#random_integers() function\n",
    "\n",
    "out_arr = np.random.random_integers(low = 0, high = 5, size = 4) \n",
    "print (\"Output 1D Array filled with random integers : \", out_arr) \n",
    "\n",
    "out_arr2 = np.random.random_integers(low = 3, size =(3, 3)) \n",
    "print (\"Output 2D Array filled with random integers : \\n\", out_arr2)  \n",
    "\n",
    "out_arr3 = np.random.random_integers(1, 6, (2, 2, 3)) \n",
    "print (\"Output 3D Array filled with random integers : \\n\", out_arr3) "
   ]
  },
  {
   "cell_type": "code",
   "execution_count": 65,
   "metadata": {},
   "outputs": [
    {
     "name": "stdout",
     "output_type": "stream",
     "text": [
      "Minimum and maximum weight of the students: \n",
      "45.0 73.25\n",
      "Range of the weight of the students: \n",
      "28.25\n",
      "Weight below which 70 % student fall: \n",
      "55.317\n",
      "Mean weight of the students: \n",
      "54.3225\n",
      "Median weight of the students: \n",
      "51.6\n",
      "Standard Deviation of weight of the students: \n",
      "8.052773978574091\n",
      "Variance in weight of the students: \n",
      "64.84716875\n",
      "Average weight of the students: \n",
      "54.3225\n"
     ]
    }
   ],
   "source": [
    "#Statistical Functions\n",
    "\n",
    "weight = np.array([50.7, 52.5, 50, 58, 55.63, 73.25, 49.5, 45])\n",
    "print('Minimum and maximum weight of the students: ') \n",
    "print(np.min(weight),np.max(weight))\n",
    "\n",
    "print('Range of the weight of the students: ') \n",
    "print(np.ptp(weight))\n",
    "\n",
    "print('Weight below which 70 % student fall: ') \n",
    "print(np.percentile(weight,70))\n",
    "\n",
    "print('Mean weight of the students: ') \n",
    "print(np.mean(weight))\n",
    "\n",
    "print('Median weight of the students: ') \n",
    "print(np.median(weight))\n",
    "\n",
    "print('Standard Deviation of weight of the students: ') \n",
    "print(np.std(weight))\n",
    "\n",
    "print('Variance in weight of the students: ') \n",
    "print(np.var(weight))\n",
    "\n",
    "print('Average weight of the students: ') \n",
    "print(np.average(weight))"
   ]
  },
  {
   "cell_type": "code",
   "execution_count": null,
   "metadata": {},
   "outputs": [],
   "source": []
  }
 ],
 "metadata": {
  "kernelspec": {
   "display_name": "Python 3",
   "language": "python",
   "name": "python3"
  },
  "language_info": {
   "codemirror_mode": {
    "name": "ipython",
    "version": 3
   },
   "file_extension": ".py",
   "mimetype": "text/x-python",
   "name": "python",
   "nbconvert_exporter": "python",
   "pygments_lexer": "ipython3",
   "version": "3.8.8"
  }
 },
 "nbformat": 4,
 "nbformat_minor": 4
}
