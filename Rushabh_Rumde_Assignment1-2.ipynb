{
 "cells": [
  {
   "cell_type": "markdown",
   "metadata": {},
   "source": [
    "#### Ramesh’s basic salary is input through the keyboard. His dearness allowance is 40% of basic salary, and house rent allowance is 20% of basic salary. Write a program to calculate his gross salary.\n"
   ]
  },
  {
   "cell_type": "code",
   "execution_count": 1,
   "metadata": {},
   "outputs": [
    {
     "name": "stdout",
     "output_type": "stream",
     "text": [
      "Enter your Basic Salary : 9000\n",
      "\n",
      "Basic salary :  9000\n",
      "Dearness Allowance : 3600.0\n",
      "House rent :  1800.0\n",
      "\n",
      "Gross Salary :  14400.0\n"
     ]
    }
   ],
   "source": [
    "Basic_salary = int(input(\"Enter your Basic Salary : \"))\n",
    "D_allowance = Basic_salary * 0.4\n",
    "house_rent = Basic_salary * 0.2\n",
    "Gross_salary = Basic_salary + D_allowance + house_rent\n",
    "print('')\n",
    "print(\"Basic salary : \",Basic_salary)\n",
    "print(\"Dearness Allowance :\",D_allowance)\n",
    "print(\"House rent : \",house_rent)\n",
    "print('')\n",
    "print(\"Gross Salary : \",Gross_salary)"
   ]
  },
  {
   "cell_type": "markdown",
   "metadata": {},
   "source": [
    "#### The distance between two cities (in km.) is input through the keyboard. Write a program to convert and print this distance in meters, feet, inches and centimeters.\n"
   ]
  },
  {
   "cell_type": "code",
   "execution_count": 51,
   "metadata": {},
   "outputs": [
    {
     "name": "stdout",
     "output_type": "stream",
     "text": [
      "Enter the distance between two cities in Kilometers : 5\n",
      "Entered Distance in Meters :  5000\n",
      "Entered Distance in Feet :  16404\n",
      "Entered Distance in Inches :  196850\n",
      "Entered Distance in Centimeters :  500000\n"
     ]
    }
   ],
   "source": [
    "distance = int(input(\"Enter the distance between two cities in Kilometers : \"))\n",
    "print(\"Entered Distance in Meters : \",distance*1000)\n",
    "print(\"Entered Distance in Feet : \",int(distance*3280.84))\n",
    "print(\"Entered Distance in Inches : \",int(distance*39370.1))\n",
    "print(\"Entered Distance in Centimeters : \",distance*100000)"
   ]
  },
  {
   "cell_type": "markdown",
   "metadata": {},
   "source": [
    "#### If the marks obtained by a student in five different subjects are input through the keyboard, find out the aggregate marks and percentage marks obtained by the student. Assume that the maximum marks that can be obtained by a student in each subject is 100.\n"
   ]
  },
  {
   "cell_type": "code",
   "execution_count": 52,
   "metadata": {},
   "outputs": [
    {
     "name": "stdout",
     "output_type": "stream",
     "text": [
      "English marks / 100 : 79\n",
      "Maths marks / 100: 85\n",
      "Science marks / 100: 88\n",
      "History marks / 100: 73\n",
      "Geography marks / 100: 88\n",
      "\n",
      "Total Marks obtained out of 500 :  413\n",
      "\n",
      "Percentage :  82.6\n"
     ]
    }
   ],
   "source": [
    "eng = int(input(\"English marks / 100 : \"))\n",
    "math = int(input(\"Maths marks / 100: \"))\n",
    "sci = int(input(\"Science marks / 100: \"))\n",
    "hist = int(input(\"History marks / 100: \"))\n",
    "geog = int(input(\"Geography marks / 100: \"))\n",
    "agg = eng+math+sci+hist+geog\n",
    "print('')\n",
    "print(\"Total Marks obtained out of 500 : \",agg)\n",
    "print('')\n",
    "perc = agg/5\n",
    "print(\"Percentage : \",perc)"
   ]
  },
  {
   "cell_type": "markdown",
   "metadata": {},
   "source": [
    "#### Temperature of a city in Fahrenheit degrees is input through the keyboard. Write a program to convert this temperature into Centigrade degrees."
   ]
  },
  {
   "cell_type": "code",
   "execution_count": 4,
   "metadata": {},
   "outputs": [
    {
     "name": "stdout",
     "output_type": "stream",
     "text": [
      "Enter the temperature in F° : 78\n",
      "Entered degree in C° :  25.555555555555557\n"
     ]
    }
   ],
   "source": [
    "fahren = int(input(\"Enter the temperature in F° : \"))\n",
    "print(\"Entered degree in C° : \",(fahren-32)*5/9)"
   ]
  },
  {
   "cell_type": "markdown",
   "metadata": {},
   "source": [
    "#### The length & breadth of a rectangle and radius of a circle are input through the keyboard. Write a program to calculate the area & perimeter of the rectangle, and the area & circumference of the circle."
   ]
  },
  {
   "cell_type": "code",
   "execution_count": 6,
   "metadata": {},
   "outputs": [
    {
     "name": "stdout",
     "output_type": "stream",
     "text": [
      "Length of the rectangle : 5\n",
      "Breadth of the rectangle : 4\n",
      "\n",
      "Area of the rectangle  :  20\n",
      "Perimeter of the rectangle :  18\n",
      "\n",
      "Enter the radius : 5\n",
      "\n",
      "Area of the circle :  78.5\n",
      "Perimeter of the circle :  31.400000000000002\n"
     ]
    }
   ],
   "source": [
    "leng = int(input(\"Length of the rectangle : \"))\n",
    "bre = int(input(\"Breadth of the rectangle : \"))\n",
    "area_r = leng*bre\n",
    "print('')\n",
    "print(\"Area of the rectangle  : \",area_r)\n",
    "peri_r = leng+leng+bre+bre\n",
    "print(\"Perimeter of the rectangle : \",peri_r)\n",
    "print('')\n",
    "rad = int(input(\"Enter the radius : \"))\n",
    "area_c = 3.14*rad*rad\n",
    "print('')\n",
    "print(\"Area of the circle : \",area_c)\n",
    "peri_c = 2*3.14*rad\n",
    "print(\"Perimeter of the circle : \",peri_c)\n"
   ]
  },
  {
   "cell_type": "markdown",
   "metadata": {},
   "source": [
    "#### If a five-digit number is input through the keyboard, write a program to reverse the number."
   ]
  },
  {
   "cell_type": "code",
   "execution_count": 2,
   "metadata": {},
   "outputs": [
    {
     "name": "stdout",
     "output_type": "stream",
     "text": [
      "Enter a 5 digit Number : 12345\n",
      "Reverse of it : 54321\n"
     ]
    }
   ],
   "source": [
    "x = int(input(\"Enter a 5 digit Number : \"))\n",
    "x1 = x%10\n",
    "x2 = int(x/10)%10\n",
    "x3 = int(x/100)%10\n",
    "x4 = int(x/1000)%10\n",
    "x5 = int(x/10000)%10\n",
    "print(\"Reverse of it : \",x1,x2,x3,x4,x5,sep='')\n"
   ]
  },
  {
   "cell_type": "markdown",
   "metadata": {},
   "source": [
    "#### If a four-digit number is input through the keyboard, write a program to obtain the sum of the first and last digit of this number."
   ]
  },
  {
   "cell_type": "code",
   "execution_count": 8,
   "metadata": {},
   "outputs": [
    {
     "name": "stdout",
     "output_type": "stream",
     "text": [
      "Enter a 4 digit Number : 1479\n",
      "Sum of the first and the last digit :  10\n"
     ]
    }
   ],
   "source": [
    "y = int(input(\"Enter a 4 digit Number : \"))\n",
    "y_last = y%10\n",
    "y_first = int(y/1000)%10\n",
    "Sum = y_first + y_last\n",
    "print(\"Sum of the first and the last digit : \",Sum)"
   ]
  },
  {
   "cell_type": "markdown",
   "metadata": {},
   "source": [
    "#### In a town, the percentage of men is 52. The percentage of total literacy is 48. If total percentage of literate men is 35 of the total population, write a program to find the total number of illiterate men and women if the population of the town is 80,000."
   ]
  },
  {
   "cell_type": "code",
   "execution_count": 9,
   "metadata": {},
   "outputs": [
    {
     "name": "stdout",
     "output_type": "stream",
     "text": [
      "Total Population :  80000\n",
      "Men :  41600\n",
      "Women :  38400\n",
      "\n",
      "Total Literate Population :  38400\n",
      "Literate Men :  28000\n",
      "Literate Women :  10400\n",
      "\n",
      "Total Illiterate Population :  41600\n"
     ]
    }
   ],
   "source": [
    "total_p = 80000\n",
    "print(\"Total Population : \",total_p)\n",
    "p_men = int(80000*52/100)                                #Percentage of men is 52.\n",
    "print(\"Men : \",p_men)   \n",
    "p_women = 80000 - p_men                             #Rest 42 would be women.\n",
    "print(\"Women : \",p_women)\n",
    "print('')\n",
    "\n",
    "total_lit = int(80000*48/100)                           #Percentage of total literacy is 48.\n",
    "print(\"Total Literate Population : \",total_lit)\n",
    "lit_men = int(80000*35/100)                              #Percentage of literate men is 35.\n",
    "print(\"Literate Men : \",lit_men)\n",
    "lit_women = total_lit - lit_men                     #Literate women could be calculated.\n",
    "print(\"Literate Women : \",lit_women)\n",
    "print('')\n",
    "\n",
    "total_ilit = total_p - total_lit\n",
    "print(\"Total Illiterate Population : \",total_ilit)\n"
   ]
  },
  {
   "cell_type": "markdown",
   "metadata": {},
   "source": [
    "#### A cashier has currency notes of denominations 10, 50 and 100. If the amount to be withdrawn is input through the keyboard in hundreds, find the total number of currency notes of each denomination the cashier will have to give to the withdrawer."
   ]
  },
  {
   "cell_type": "code",
   "execution_count": 50,
   "metadata": {},
   "outputs": [
    {
     "name": "stdout",
     "output_type": "stream",
     "text": [
      "Please Enter the Amount for Withdrawal :580\n",
      "\n",
      "Required notes of 100 : 5\n",
      "Required notes of 50 : 1\n",
      "Required notes of 10 : 3\n",
      "\n",
      "Transaction complete.\n"
     ]
    }
   ],
   "source": [
    "Amount = int(input(\"Please Enter the Amount for Withdrawal :\"))\n",
    "while Amount % 10 != 0:\n",
    "    Amount = int(input(\"Please enter the Amount in 10's :\"))\n",
    "if Amount % 10 == 0:\n",
    "    print('')\n",
    "    notes_100 = int(Amount/100)\n",
    "    print (\"Required notes of 100 :\",notes_100)\n",
    "    notes_50 = int(Amount%100/50)\n",
    "    print (\"Required notes of 50 :\",notes_50)\n",
    "    notes_10 = int(((Amount % 100) % 50)/10)\n",
    "    print (\"Required notes of 10 :\",notes_10)\n",
    "    print('')\n",
    "    print(\"Transaction complete.\")\n"
   ]
  },
  {
   "cell_type": "code",
   "execution_count": null,
   "metadata": {},
   "outputs": [],
   "source": []
  }
 ],
 "metadata": {
  "kernelspec": {
   "display_name": "Python 3",
   "language": "python",
   "name": "python3"
  },
  "language_info": {
   "codemirror_mode": {
    "name": "ipython",
    "version": 3
   },
   "file_extension": ".py",
   "mimetype": "text/x-python",
   "name": "python",
   "nbconvert_exporter": "python",
   "pygments_lexer": "ipython3",
   "version": "3.8.8"
  }
 },
 "nbformat": 4,
 "nbformat_minor": 4
}
