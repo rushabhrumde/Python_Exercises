{
 "cells": [
  {
   "cell_type": "code",
   "execution_count": 4,
   "metadata": {},
   "outputs": [
    {
     "name": "stdout",
     "output_type": "stream",
     "text": [
      "Enter two values : 10 20\n",
      "First number is 10 and second number is 20.\n",
      "\n"
     ]
    }
   ],
   "source": [
    "# taking two inputs at a time \n",
    "a, b = input(\"Enter two values : \").split() \n",
    "print(\"First number is {} and second number is {}.\".format(a, b)) \n",
    "print() \n",
    "  "
   ]
  },
  {
   "cell_type": "code",
   "execution_count": 6,
   "metadata": {},
   "outputs": [
    {
     "name": "stdout",
     "output_type": "stream",
     "text": [
      "Enter multiple values : 1 2 3 4 5 6 \n",
      "List of students:  [1, 2, 3, 4, 5, 6]\n"
     ]
    }
   ],
   "source": [
    "# taking multiple inputs at a time  \n",
    "# and type casting using list() function \n",
    "x = list(map(int, input(\"Enter multiple values : \").split())) \n",
    "print(\"List of students: \", x) "
   ]
  },
  {
   "cell_type": "code",
   "execution_count": 9,
   "metadata": {},
   "outputs": [
    {
     "name": "stdout",
     "output_type": "stream",
     "text": [
      "GFG\n",
      "09-12-2020\n",
      "rushabh@geeksforgeeks\n"
     ]
    }
   ],
   "source": [
    "#code for disabling the softspace feature \n",
    "print('G','F','G', sep='') \n",
    "  \n",
    "#for formatting a date \n",
    "print('09','12','2020', sep='-') \n",
    "  \n",
    "#another example \n",
    "print('rushabh','geeksforgeeks', sep='@')"
   ]
  },
  {
   "cell_type": "code",
   "execution_count": 10,
   "metadata": {},
   "outputs": [
    {
     "name": "stdout",
     "output_type": "stream",
     "text": [
      "Geeks :  1, Portal :  5.33\n",
      "Total students :  240, Boys :  120\n",
      "    031\n",
      " 3.561E+02\n"
     ]
    }
   ],
   "source": [
    "\n",
    "# Python program showing how to use \n",
    "# string modulo operator(%) to print \n",
    "# fancier output \n",
    "  \n",
    "# print integer and float value \n",
    "print(\"Geeks : % 2d, Portal : % 5.2f\" %(1, 05.333))  \n",
    "  \n",
    "# print integer value \n",
    "print(\"Total students : % 3d, Boys : % 2d\" %(240, 120)) \n",
    "  \n",
    "# print octal value \n",
    "print(\"% 7.3o\"% (25)) \n",
    "  \n",
    "# print exponential value \n",
    "print(\"% 10.3E\"% (356.08977)) "
   ]
  },
  {
   "cell_type": "markdown",
   "metadata": {},
   "source": [
    "1. setitem(ob, pos, val) :- This function is used to assign the value at a particular position in the container.\n",
    "Operation – ob[pos] = val\n",
    "\n",
    "2. delitem(ob, pos) :- This function is used to delete the value at a particular position in the container.\n",
    "Operation – del ob[pos]\n",
    "\n",
    "3. getitem(ob, pos) :- This function is used to access the value at a particular position in the container.\n",
    "Operation – ob[pos]\n",
    "\n",
    "4. setitem(ob, slice(a,b), vals) :- This function is used to set the values in a particular range in the container.\n",
    "Operation – obj[a:b] = vals\n",
    "\n",
    "5. delitem(ob, slice(a,b)) :- This function is used to delete the values from a particular range in the container.\n",
    "Operation – del obj[a:b]\n",
    "\n",
    "6. getitem(ob, slice(a,b)) :- This function is used to access the values in a particular range in the container.\n",
    "Operation – obj[a:b]"
   ]
  },
  {
   "cell_type": "code",
   "execution_count": 11,
   "metadata": {},
   "outputs": [
    {
     "name": "stdout",
     "output_type": "stream",
     "text": [
      "not overlapping\n"
     ]
    }
   ],
   "source": [
    "# Python program to illustrate \n",
    "# Finding common member in list  \n",
    "# using 'in' operator \n",
    "list1=[1,2,3,4,5] \n",
    "list2=[6,7,8,9] \n",
    "for item in list1: \n",
    "    if item in list2: \n",
    "        print(\"overlapping\")       \n",
    "else: \n",
    "    print(\"not overlapping\") "
   ]
  },
  {
   "cell_type": "code",
   "execution_count": 12,
   "metadata": {},
   "outputs": [
    {
     "name": "stdout",
     "output_type": "stream",
     "text": [
      "true\n"
     ]
    }
   ],
   "source": [
    "# Python program to illustrate the  \n",
    "# use of 'is not' identity operator \n",
    "x = 5.2\n",
    "if (type(x) is not int): \n",
    "    print(\"true\") \n",
    "else: \n",
    "    print(\"false\") "
   ]
  },
  {
   "cell_type": "code",
   "execution_count": 13,
   "metadata": {},
   "outputs": [
    {
     "name": "stdout",
     "output_type": "stream",
     "text": [
      "0 1 2 3 4 5 6 7 8 9 \n",
      "10 20 30 40 \n",
      "Sum of first 10 natural number : 45\n"
     ]
    }
   ],
   "source": [
    "# Python Program to  \n",
    "# show range() basics  \n",
    "  \n",
    "# printing a number  \n",
    "for i in range(10):  \n",
    "    print(i, end =\" \")  \n",
    "print()  \n",
    "  \n",
    "# using range for iteration  \n",
    "l = [10, 20, 30, 40]  \n",
    "for i in range(len(l)):  \n",
    "    print(l[i], end =\" \")  \n",
    "print()  \n",
    "  \n",
    "# performing sum of natural  \n",
    "# number  \n",
    "sum = 0\n",
    "for i in range(1, 10):  \n",
    "    sum = sum + i  \n",
    "print(\"Sum of first 10 natural number :\", sum)"
   ]
  },
  {
   "cell_type": "code",
   "execution_count": 14,
   "metadata": {},
   "outputs": [
    {
     "name": "stdout",
     "output_type": "stream",
     "text": [
      "1\n",
      "2\n",
      "3\n",
      "No Break\n",
      "\n",
      "1\n"
     ]
    }
   ],
   "source": [
    "# Python program to demonstrate \n",
    "# for-else loop \n",
    "  \n",
    "for i in range(1, 4):  \n",
    "    print(i)  \n",
    "else: # Executed because no break in for  \n",
    "    print(\"No Break\\n\")  \n",
    "  \n",
    "for i in range(1, 4):  \n",
    "    print(i)  \n",
    "    break\n",
    "else: # Not executed as there is a break  \n",
    "    print(\"No Break\") "
   ]
  },
  {
   "cell_type": "code",
   "execution_count": 15,
   "metadata": {},
   "outputs": [
    {
     "name": "stdout",
     "output_type": "stream",
     "text": [
      "Hello Geek\n",
      "Hello Geek\n",
      "Hello Geek\n",
      "\n",
      "4\n",
      "3\n",
      "2\n",
      "1\n"
     ]
    }
   ],
   "source": [
    "# Python program to illustrate  \n",
    "# while loop  \n",
    "count = 0\n",
    "while (count < 3):      \n",
    "    count = count + 1\n",
    "    print(\"Hello Geek\")  \n",
    "  \n",
    "print() \n",
    "  \n",
    "# checks if list still \n",
    "# contains any element  \n",
    "a = [1, 2, 3, 4] \n",
    "while a: \n",
    "    print(a.pop())"
   ]
  },
  {
   "cell_type": "code",
   "execution_count": 16,
   "metadata": {},
   "outputs": [
    {
     "name": "stdout",
     "output_type": "stream",
     "text": [
      "Current Letter : g\n",
      "Current Letter : k\n",
      "Current Letter : f\n",
      "Current Letter : o\n",
      "Current Letter : r\n",
      "Current Letter : g\n",
      "Current Letter : k\n"
     ]
    }
   ],
   "source": [
    "# Prints all letters except 'e' and 's'  \n",
    "i = 0\n",
    "a = 'geeksforgeeks'\n",
    "  \n",
    "while i < len(a):  \n",
    "    if a[i] == 'e' or a[i] == 's':  \n",
    "        i += 1\n",
    "        continue\n",
    "    print('Current Letter :', a[i]) \n",
    "    i += 1"
   ]
  },
  {
   "cell_type": "code",
   "execution_count": 17,
   "metadata": {},
   "outputs": [
    {
     "name": "stdout",
     "output_type": "stream",
     "text": [
      "g\n",
      "e\n",
      "Out of for loop\n",
      "\n",
      "g\n",
      "e\n",
      "Out of while loop\n"
     ]
    }
   ],
   "source": [
    "# Python program to \n",
    "# demonstrate break statement \n",
    "  \n",
    "s = 'geeksforgeeks'\n",
    "# Using for loop \n",
    "for letter in s: \n",
    "  \n",
    "    print(letter) \n",
    "    # break the loop as soon it sees 'e' \n",
    "    # or 's' \n",
    "    if letter == 'e' or letter == 's': \n",
    "        break\n",
    "  \n",
    "print(\"Out of for loop\") \n",
    "print() \n",
    "  \n",
    "i = 0\n",
    "  \n",
    "# Using while loop \n",
    "while True: \n",
    "    print(s[i]) \n",
    "  \n",
    "    # break the loop as soon it sees 'e' \n",
    "    # or 's' \n",
    "    if s[i] == 'e' or s[i] == 's': \n",
    "        break\n",
    "    i += 1\n",
    "  \n",
    "print(\"Out of while loop\") "
   ]
  },
  {
   "cell_type": "code",
   "execution_count": 18,
   "metadata": {},
   "outputs": [
    {
     "name": "stdout",
     "output_type": "stream",
     "text": [
      "0 The\n",
      "1 Big\n",
      "2 Bang\n",
      "3 Theory\n"
     ]
    }
   ],
   "source": [
    "# python code to demonstrate working of enumerate()   \n",
    "# printing the index number along with the value present in that particular index.\n",
    "\n",
    "for key, value in enumerate(['The', 'Big', 'Bang', 'Theory']): \n",
    "    print(key, value) "
   ]
  },
  {
   "cell_type": "code",
   "execution_count": 19,
   "metadata": {},
   "outputs": [
    {
     "name": "stdout",
     "output_type": "stream",
     "text": [
      "What is your name?  I am apple.\n",
      "What is your colour?  I am red.\n",
      "What is your shape?  I am a circle.\n"
     ]
    }
   ],
   "source": [
    "# python code to demonstrate working of zip() \n",
    "#  printing the values sequentially.\n",
    "\n",
    "# initializing list \n",
    "questions = ['name', 'colour', 'shape'] \n",
    "answers = ['apple', 'red', 'a circle'] \n",
    "  \n",
    "# using zip() to combine two containers  \n",
    "# and print values \n",
    "for question, answer in zip(questions, answers): \n",
    "    print('What is your {0}?  I am {1}.'.format(question, answer)) "
   ]
  },
  {
   "cell_type": "code",
   "execution_count": 22,
   "metadata": {},
   "outputs": [
    {
     "name": "stdout",
     "output_type": "stream",
     "text": [
      "Akbar The Great\n",
      "Chandragupta The Maurya\n",
      "Modi The Changer\n"
     ]
    }
   ],
   "source": [
    "# python code to demonstrate working of items() \n",
    "  \n",
    "king = {'Akbar': 'The Great', 'Chandragupta': 'The Maurya',  \n",
    "        'Modi' : 'The Changer'} \n",
    "  \n",
    "# using items to print the dictionary key-value pair \n",
    "for key, value in king.items(): \n",
    "    print(key, value) "
   ]
  },
  {
   "cell_type": "code",
   "execution_count": 23,
   "metadata": {},
   "outputs": [
    {
     "name": "stdout",
     "output_type": "stream",
     "text": [
      "apple\n",
      "banana\n",
      "grape\n",
      "guava\n",
      "guave\n",
      "orange\n",
      "pear\n"
     ]
    }
   ],
   "source": [
    "# python code to demonstrate working of sorted() \n",
    "  \n",
    "# initializing list \n",
    "basket = ['guave', 'orange', 'apple', 'pear',  \n",
    "          'guava', 'banana', 'grape'] \n",
    "  \n",
    "# using sorted() and set() to print the list \n",
    "#  in sorted order \n",
    "for fruit in sorted(set(basket)): \n",
    "    print(fruit) "
   ]
  },
  {
   "cell_type": "code",
   "execution_count": null,
   "metadata": {},
   "outputs": [],
   "source": []
  }
 ],
 "metadata": {
  "kernelspec": {
   "display_name": "Python 3",
   "language": "python",
   "name": "python3"
  },
  "language_info": {
   "codemirror_mode": {
    "name": "ipython",
    "version": 3
   },
   "file_extension": ".py",
   "mimetype": "text/x-python",
   "name": "python",
   "nbconvert_exporter": "python",
   "pygments_lexer": "ipython3",
   "version": "3.8.8"
  }
 },
 "nbformat": 4,
 "nbformat_minor": 4
}
