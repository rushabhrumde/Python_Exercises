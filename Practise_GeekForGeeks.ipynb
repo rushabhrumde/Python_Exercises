{
 "cells": [
  {
   "cell_type": "markdown",
   "metadata": {},
   "source": [
    " ** Extra : Find N largest elements from a list **"
   ]
  },
  {
   "cell_type": "code",
   "execution_count": 7,
   "metadata": {},
   "outputs": [
    {
     "name": "stdout",
     "output_type": "stream",
     "text": [
      "[900, 1000, 3579]\n"
     ]
    }
   ],
   "source": [
    "List = [1000,298,3579,100,200,-45,900] \n",
    "n = 3\n",
    "  \n",
    "List.sort() \n",
    "print(List[-n:]) "
   ]
  },
  {
   "cell_type": "code",
   "execution_count": 8,
   "metadata": {},
   "outputs": [
    {
     "name": "stdout",
     "output_type": "stream",
     "text": [
      "10 4 66 "
     ]
    }
   ],
   "source": [
    "# Python program to print even Numbers in a List \n",
    "\n",
    "list1 = [10, 21, 4, 45, 66, 93] \n",
    "  \n",
    "# iterating each number in list \n",
    "for num in list1: \n",
    "      \n",
    "    # checking condition \n",
    "    if num % 2 == 0: \n",
    "       print(num, end = \" \")"
   ]
  },
  {
   "cell_type": "code",
   "execution_count": 9,
   "metadata": {},
   "outputs": [
    {
     "name": "stdout",
     "output_type": "stream",
     "text": [
      "Even numbers in the list:  [10, 4, 66]\n"
     ]
    }
   ],
   "source": [
    "# Python program to print even Numbers in a List \n",
    "  \n",
    "# list of numbers \n",
    "list1 = [10, 21, 4, 45, 66, 93] \n",
    "  \n",
    "# using list comprehension \n",
    "even_nos = [num for num in list1 if num % 2 == 0] \n",
    "  \n",
    "print(\"Even numbers in the list: \", even_nos)"
   ]
  },
  {
   "cell_type": "code",
   "execution_count": 10,
   "metadata": {},
   "outputs": [
    {
     "name": "stdout",
     "output_type": "stream",
     "text": [
      "21 45 93 "
     ]
    }
   ],
   "source": [
    "# Python program to print odd Numbers in a List \n",
    "  \n",
    "# list of numbers \n",
    "list1 = [10, 21, 4, 45, 66, 93] \n",
    "  \n",
    "# iterating each number in list \n",
    "for num in list1: \n",
    "      \n",
    "    # checking condition \n",
    "    if num % 2 != 0: \n",
    "       print(num, end = \" \")"
   ]
  },
  {
   "cell_type": "code",
   "execution_count": 11,
   "metadata": {},
   "outputs": [
    {
     "name": "stdout",
     "output_type": "stream",
     "text": [
      "[21, 45, 93]\n"
     ]
    }
   ],
   "source": [
    "# Python program to print odd Numbers in a List \n",
    "  \n",
    "# list of numbers \n",
    "list1 = [10, 21, 4, 45, 66, 93] \n",
    "  \n",
    "only_odd = [num for num in list1 if num % 2 == 1] \n",
    "  \n",
    "print(only_odd)"
   ]
  },
  {
   "cell_type": "code",
   "execution_count": 12,
   "metadata": {},
   "outputs": [
    {
     "name": "stdout",
     "output_type": "stream",
     "text": [
      "Enter the start of range: 10\n",
      "Enter the end of range: 100\n",
      "10 12 14 16 18 20 22 24 26 28 30 32 34 36 38 40 42 44 46 48 50 52 54 56 58 60 62 64 66 68 70 72 74 76 78 80 82 84 86 88 90 92 94 96 98 100 "
     ]
    }
   ],
   "source": [
    "# Python program to print Even Numbers in given range \n",
    "  \n",
    "start = int(input(\"Enter the start of range: \")) \n",
    "end = int(input(\"Enter the end of range: \")) \n",
    "  \n",
    "# iterating each number in list \n",
    "for num in range(start, end + 1): \n",
    "      \n",
    "    # checking condition \n",
    "    if num % 2 == 0: \n",
    "        print(num, end = \" \") "
   ]
  },
  {
   "cell_type": "code",
   "execution_count": 14,
   "metadata": {},
   "outputs": [
    {
     "name": "stdout",
     "output_type": "stream",
     "text": [
      "Enter the start of range: 10\n",
      "Enter the end of range: 100\n",
      "11 13 15 17 19 21 23 25 27 29 31 33 35 37 39 41 43 45 47 49 51 53 55 57 59 61 63 65 67 69 71 73 75 77 79 81 83 85 87 89 91 93 95 97 99 "
     ]
    }
   ],
   "source": [
    "# Python program to print Odd Numbers in given range \n",
    "  \n",
    "start = int(input(\"Enter the start of range: \")) \n",
    "end = int(input(\"Enter the end of range: \")) \n",
    "  \n",
    "# iterating each number in list \n",
    "for num in range(start, end + 1): \n",
    "      \n",
    "    # checking condition \n",
    "    if num % 2 != 0: \n",
    "        print(num, end = \" \") "
   ]
  },
  {
   "cell_type": "code",
   "execution_count": 15,
   "metadata": {},
   "outputs": [
    {
     "name": "stdout",
     "output_type": "stream",
     "text": [
      "Even numbers in the list:  3\n",
      "Odd numbers in the list:  4\n"
     ]
    }
   ],
   "source": [
    "# Python program to print odd Numbers in a List \n",
    "   \n",
    "# list of numbers \n",
    "list1 = [10, 21, 4, 45, 66, 93, 11] \n",
    "   \n",
    "only_odd = [num for num in list1 if num % 2 == 1] \n",
    "odd_count = len(only_odd) \n",
    "   \n",
    "print(\"Even numbers in the list: \", len(list1) - odd_count) \n",
    "print(\"Odd numbers in the list: \", odd_count) "
   ]
  },
  {
   "cell_type": "code",
   "execution_count": 16,
   "metadata": {},
   "outputs": [
    {
     "name": "stdout",
     "output_type": "stream",
     "text": [
      "Even numbers in the list:  3\n",
      "Odd numbers in the list:  4\n"
     ]
    }
   ],
   "source": [
    "\n",
    "# Python program to count Even and Odd numbers in a List \n",
    "  \n",
    "# list of numbers \n",
    "list1 = [10, 21, 4, 45, 66, 93, 1] \n",
    "  \n",
    "even_count, odd_count = 0, 0\n",
    "  \n",
    "# iterating each number in list \n",
    "for num in list1: \n",
    "      \n",
    "    # checking condition \n",
    "    if num % 2 == 0: \n",
    "        even_count += 1\n",
    "  \n",
    "    else: \n",
    "        odd_count += 1\n",
    "          \n",
    "print(\"Even numbers in the list: \", even_count) \n",
    "print(\"Odd numbers in the list: \", odd_count) "
   ]
  },
  {
   "cell_type": "code",
   "execution_count": 17,
   "metadata": {},
   "outputs": [
    {
     "name": "stdout",
     "output_type": "stream",
     "text": [
      "11 0 45 66 "
     ]
    }
   ],
   "source": [
    "# Python program to print positive Numbers in a List \n",
    "  \n",
    "# list of numbers \n",
    "list1 = [11, -21, 0, 45, 66, -93] \n",
    "  \n",
    "# iterating each number in list \n",
    "for num in list1: \n",
    "      \n",
    "    # checking condition \n",
    "    if num >= 0: \n",
    "       print(num, end = \" \") "
   ]
  },
  {
   "cell_type": "code",
   "execution_count": 18,
   "metadata": {},
   "outputs": [
    {
     "name": "stdout",
     "output_type": "stream",
     "text": [
      "Positive numbers in the list:  45 93\n"
     ]
    }
   ],
   "source": [
    "\n",
    "# Python program to print Positive Numbers in a List \n",
    "  \n",
    "# list of numbers \n",
    "list1 = [-10, -21, -4, 45, -66, 93] \n",
    "  \n",
    "# using list comprehension \n",
    "pos_nos = [num for num in list1 if num >= 0] \n",
    "  \n",
    "print(\"Positive numbers in the list: \", *pos_nos) "
   ]
  },
  {
   "cell_type": "code",
   "execution_count": 19,
   "metadata": {},
   "outputs": [
    {
     "name": "stdout",
     "output_type": "stream",
     "text": [
      "0 1 2 3 4 5 6 7 8 9 10 11 12 13 14 15 16 17 18 19 "
     ]
    }
   ],
   "source": [
    "# Python program to print positive Numbers in given range \n",
    "  \n",
    "start, end = -4, 19\n",
    "  \n",
    "# iterating each number in list \n",
    "for num in range(start, end + 1): \n",
    "      \n",
    "    # checking condition \n",
    "    if num >= 0:                  #if num < 0: For negative numbers\n",
    "        print(num, end = \" \") "
   ]
  },
  {
   "cell_type": "code",
   "execution_count": 20,
   "metadata": {},
   "outputs": [
    {
     "name": "stdout",
     "output_type": "stream",
     "text": [
      "Enter the start of range: -10\n",
      "Enter the end of range: 10\n",
      "0 1 2 3 4 5 6 7 8 9 10 "
     ]
    }
   ],
   "source": [
    "# Python program to print positive Numbers in given range \n",
    "  \n",
    "start = int(input(\"Enter the start of range: \")) \n",
    "end = int(input(\"Enter the end of range: \")) \n",
    "  \n",
    "# iterating each number in list \n",
    "for num in range(start, end + 1): \n",
    "      \n",
    "    # checking condition \n",
    "    if num >= 0:                 #if num < 0: For negative numbers\n",
    "        print(num, end = \" \")"
   ]
  },
  {
   "cell_type": "code",
   "execution_count": 21,
   "metadata": {},
   "outputs": [
    {
     "name": "stdout",
     "output_type": "stream",
     "text": [
      "Positive numbers in the list:  4\n",
      "Negative numbers in the list:  3\n"
     ]
    }
   ],
   "source": [
    "# Python program to count positive and negative numbers in a List \n",
    "  \n",
    "list1 = [10, -21, 4, -45, 66, -93, 1] \n",
    "  \n",
    "pos_count, neg_count = 0, 0\n",
    "  \n",
    "# iterating each number in list \n",
    "for num in list1: \n",
    "      \n",
    "    # checking condition \n",
    "    if num >= 0: \n",
    "        pos_count += 1\n",
    "  \n",
    "    else: \n",
    "        neg_count += 1\n",
    "          \n",
    "print(\"Positive numbers in the list: \", pos_count) \n",
    "print(\"Negative numbers in the list: \", neg_count) "
   ]
  },
  {
   "cell_type": "code",
   "execution_count": 22,
   "metadata": {},
   "outputs": [
    {
     "name": "stdout",
     "output_type": "stream",
     "text": [
      "Positive numbers in the list:  1\n",
      "Negative numbers in the list:  6\n"
     ]
    }
   ],
   "source": [
    "# Python program to count positive and negative numbers in a List \n",
    "  \n",
    "# list of numbers \n",
    "list1 = [-10, -21, -4, -45, -66, -93, 11] \n",
    "  \n",
    "only_pos = [num for num in list1 if num >= 1] \n",
    "pos_count = len(only_pos) \n",
    "  \n",
    "print(\"Positive numbers in the list: \", pos_count) \n",
    "print(\"Negative numbers in the list: \", len(list1) - pos_count)"
   ]
  },
  {
   "cell_type": "code",
   "execution_count": 24,
   "metadata": {},
   "outputs": [
    {
     "name": "stdout",
     "output_type": "stream",
     "text": [
      "New list after removing all even numbers:  [11, 5, 17, 23]\n"
     ]
    }
   ],
   "source": [
    "# Python program to remove multiple elements from a list \n",
    "\n",
    "# creating a list \n",
    "list1 = [11, 5, 17, 18, 23, 50] \n",
    "\n",
    "# Iterate each element in list \n",
    "# and add them in variale total \n",
    "for ele in list1: \n",
    "    if ele % 2 == 0: \n",
    "        list1.remove(ele) \n",
    "\n",
    "# printing modified list \n",
    "print(\"New list after removing all even numbers: \", list1) \n"
   ]
  },
  {
   "cell_type": "code",
   "execution_count": 25,
   "metadata": {},
   "outputs": [
    {
     "name": "stdout",
     "output_type": "stream",
     "text": [
      "[('ram', '15', '8'), ('laxman', 'sita'), ('krishna', 'akbar', '45'), ('', '')]\n"
     ]
    }
   ],
   "source": [
    "# Python program to remove empty tuples from a list of tuples function to remove empty tuples \n",
    "# using list comprehension \n",
    "\n",
    "def Remove(tuples):\n",
    "    tuples = [t for t in tuples if t] \n",
    "    return tuples \n",
    "\n",
    "tuples = [(), ('ram','15','8'), (), ('laxman', 'sita'), ('krishna', 'akbar', '45'), ('',''),()] \n",
    "print(Remove(tuples)) \n"
   ]
  },
  {
   "cell_type": "code",
   "execution_count": 26,
   "metadata": {},
   "outputs": [
    {
     "name": "stdout",
     "output_type": "stream",
     "text": [
      "[20, 30, -20, 60]\n"
     ]
    }
   ],
   "source": [
    "\n",
    "# Python program to print duplicates from a list of integers \n",
    "\n",
    "def Repeat(x): \n",
    "    _size = len(x) \n",
    "    repeated = [] \n",
    "    for i in range(_size): \n",
    "        k = i + 1\n",
    "        for j in range(k, _size): \n",
    "            if x[i] == x[j] and x[i] not in repeated: \n",
    "                repeated.append(x[i]) \n",
    "    return repeated  \n",
    "   \n",
    "list1 = [10, 20, 30, 20, 20, 30, 40,  \n",
    "         50, -20, 60, 60, -20, -20] \n",
    "print (Repeat(list1)) "
   ]
  },
  {
   "cell_type": "code",
   "execution_count": 27,
   "metadata": {},
   "outputs": [
    {
     "name": "stdout",
     "output_type": "stream",
     "text": [
      "[10, 30, 60, 100, 150]\n"
     ]
    }
   ],
   "source": [
    "# Python code to get the Cumulative sum of a list \n",
    "list=[10,20,30,40,50]\n",
    "new_list=[] \n",
    "j=0\n",
    "for i in range(0,len(list)):\n",
    "    j+=list[i]\n",
    "    new_list.append(j) \n",
    "     \n",
    "print(new_list)"
   ]
  },
  {
   "cell_type": "code",
   "execution_count": 28,
   "metadata": {},
   "outputs": [
    {
     "name": "stdout",
     "output_type": "stream",
     "text": [
      "[10, 30, 60, 100, 150]\n"
     ]
    }
   ],
   "source": [
    "# Python code to get the Cumulative sum of a list \n",
    "def Cumulative(lists): \n",
    "    cu_list = [] \n",
    "    length = len(lists) \n",
    "    cu_list = [sum(lists[0:x:1]) for x in range(0, length+1)] \n",
    "    return cu_list[1:]\n",
    " \n",
    "# Driver Code \n",
    "lists = [10, 20, 30, 40, 50] \n",
    "print (Cumulative(lists))"
   ]
  },
  {
   "cell_type": "code",
   "execution_count": 30,
   "metadata": {},
   "outputs": [
    {
     "name": "stdout",
     "output_type": "stream",
     "text": [
      "[[1, 2, 3], [4, 5, 6], [7, 8, 9]]\n"
     ]
    }
   ],
   "source": [
    "#Break a list into chunks of size N.\n",
    "\n",
    "l = [1, 2, 3, 4, 5, 6, 7, 8, 9]  \n",
    "    \n",
    "n = 3\n",
    "   \n",
    "x = [l[i:i + n] for i in range(0, len(l), n)]  \n",
    "print(x)"
   ]
  },
  {
   "cell_type": "code",
   "execution_count": null,
   "metadata": {},
   "outputs": [],
   "source": []
  }
 ],
 "metadata": {
  "kernelspec": {
   "display_name": "Python 3",
   "language": "python",
   "name": "python3"
  },
  "language_info": {
   "codemirror_mode": {
    "name": "ipython",
    "version": 3
   },
   "file_extension": ".py",
   "mimetype": "text/x-python",
   "name": "python",
   "nbconvert_exporter": "python",
   "pygments_lexer": "ipython3",
   "version": "3.8.8"
  }
 },
 "nbformat": 4,
 "nbformat_minor": 4
}
