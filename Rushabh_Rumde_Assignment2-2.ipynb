{
 "cells": [
  {
   "cell_type": "markdown",
   "metadata": {},
   "source": [
    "#### Prompt the user for a score between 0.0 and 1.0. If the score is out of range, print an error message. If the score is between 0.0 and 1.0, print a grade"
   ]
  },
  {
   "cell_type": "code",
   "execution_count": 3,
   "metadata": {},
   "outputs": [
    {
     "name": "stdout",
     "output_type": "stream",
     "text": [
      "Enter your score : 8\n",
      "Enter your score between 0 and 1 : 0.8\n",
      "\n",
      "Grade : B\n"
     ]
    }
   ],
   "source": [
    "score = float(input(\"Enter your score : \"))\n",
    "while score>1.0 or score<0.0 :\n",
    "    score = float(input(\"Enter your score between 0 and 1 : \"))\n",
    "print('')\n",
    "if score>=0.9 :\n",
    "    print (\"Grade : A\")\n",
    "elif score>=0.8 :\n",
    "    print (\"Grade : B\")\n",
    "elif score>=0.7 :\n",
    "    print (\"Grade : C\")\n",
    "elif score>=0.6 :\n",
    "    print (\"Grade : D\")\n",
    "else :\n",
    "    print (\"Grade : E\")"
   ]
  },
  {
   "cell_type": "markdown",
   "metadata": {},
   "source": [
    "#### If cost price and selling price of an item is input through the keyboard, write a program to determine whether the seller has made profit or incurred loss. Also determine how much profit he made or loss he incurred."
   ]
  },
  {
   "cell_type": "code",
   "execution_count": 19,
   "metadata": {},
   "outputs": [
    {
     "name": "stdout",
     "output_type": "stream",
     "text": [
      "Enter the Cost Price :30\n",
      "Enter the Selling Price :32\n",
      "\n",
      "Seller incurred a Profit of :  2\n"
     ]
    }
   ],
   "source": [
    "c_price = int(input(\"Enter the Cost Price :\"))\n",
    "s_price = int(input(\"Enter the Selling Price :\"))\n",
    "profit = s_price - c_price\n",
    "loss = str(profit)               #Converted to string just so that '-' could be removed from Profit.\n",
    "print('')\n",
    "if profit > 0:\n",
    "    print(\"Seller incurred a Profit of : \",profit)\n",
    "elif profit < 0:\n",
    "    print(\"Seller incurred a Loss of : \",loss.replace('-',''))   #Removing the - sign using Replace.\n",
    "else:\n",
    "    print(\"Seller neither incuured a Loss nor a Profit.\")"
   ]
  },
  {
   "cell_type": "markdown",
   "metadata": {},
   "source": [
    "#### Any year is input through the keyboard. Write a program to determine whether the year is a leap year or not.\n"
   ]
  },
  {
   "cell_type": "code",
   "execution_count": 28,
   "metadata": {},
   "outputs": [
    {
     "name": "stdout",
     "output_type": "stream",
     "text": [
      "Enter the year you want to check : 1999\n",
      "1999 is not a Leap Year.\n"
     ]
    }
   ],
   "source": [
    "year = int(input(\"Enter the year you want to check : \"))\n",
    "if year % 4 == 0:\n",
    "    print(\"{} is a Leap Year.\".format(year))\n",
    "else:\n",
    "    print(\"{} is not a Leap Year.\".format(year))"
   ]
  },
  {
   "cell_type": "markdown",
   "metadata": {},
   "source": [
    "#### A five-digit number is entered through the keyboard. Write a program to obtain the reversed number and to determine whether the original and reversed numbers are equal or not."
   ]
  },
  {
   "cell_type": "code",
   "execution_count": 38,
   "metadata": {},
   "outputs": [
    {
     "name": "stdout",
     "output_type": "stream",
     "text": [
      "Enter a 5 digit Number : 12345\n",
      "Reverse of it : 54321\n"
     ]
    }
   ],
   "source": [
    "x = int(input(\"Enter a 5 digit Number : \"))\n",
    "x1 = x%10\n",
    "x2 = int(x/10)%10\n",
    "x3 = int(x/100)%10\n",
    "x4 = int(x/1000)%10\n",
    "x5 = int(x/10000)%10\n",
    "print(\"Reverse of it : \",x1,x2,x3,x4,x5,sep = '')\n"
   ]
  },
  {
   "cell_type": "code",
   "execution_count": 32,
   "metadata": {},
   "outputs": [
    {
     "name": "stdout",
     "output_type": "stream",
     "text": [
      "Enter number: 12345\n",
      "Reverse of the number: 54321\n"
     ]
    }
   ],
   "source": [
    "#Using while loop.\n",
    "\n",
    "x=int(input(\"Enter number: \"))\n",
    "rev=0\n",
    "while(x>0):\n",
    "    dig=x%10\n",
    "    rev=rev*10+dig\n",
    "    x=x//10\n",
    "print(\"Reverse of the number:\",rev)"
   ]
  },
  {
   "cell_type": "code",
   "execution_count": 37,
   "metadata": {},
   "outputs": [
    {
     "name": "stdout",
     "output_type": "stream",
     "text": [
      "Enter number: 12345\n",
      "Reverse of the number: 54321\n",
      "No\n"
     ]
    }
   ],
   "source": [
    "#Using while loop.\n",
    "\n",
    "x=int(input(\"Enter number: \"))\n",
    "rev=0\n",
    "while(x>0):\n",
    "    dig=x%10\n",
    "    rev=rev*10+dig\n",
    "    x=x//10\n",
    "print(\"Reverse of the number:\",rev)\n",
    "if rev==x:\n",
    "    print(\"Yes\")\n",
    "else:\n",
    "    print(\"No\")"
   ]
  },
  {
   "cell_type": "markdown",
   "metadata": {},
   "source": [
    "#### If the ages of Ram, Shyam and Ajay are input through the keyboard, write a program to determine the youngest of the three"
   ]
  },
  {
   "cell_type": "code",
   "execution_count": 42,
   "metadata": {},
   "outputs": [
    {
     "name": "stdout",
     "output_type": "stream",
     "text": [
      "Enter Ram's age :2\n",
      "Enter Shyam's age :3\n",
      "Enter Ajay's age :4\n",
      "\n",
      "Ram is the youngest with age 2.\n"
     ]
    }
   ],
   "source": [
    "ram = int(input(\"Enter Ram's age :\"))\n",
    "shyam = int(input(\"Enter Shyam's age :\"))\n",
    "ajay = int(input(\"Enter Ajay's age :\"))\n",
    "print('')\n",
    "if ram<=shyam:\n",
    "    if ram<=ajay:\n",
    "        print(\"Ram is the youngest with age {}.\".format(ram))\n",
    "    else:\n",
    "        print(\"Ajay is the youngest with age {}.\".format(ajay))\n",
    "elif shyam<=ajay:\n",
    "    print(\"Shyam is the youngest with age {}.\".format(shyam))\n",
    "else:\n",
    "    print(\"Ajay is the younest with age {}.\".format(ajay))\n"
   ]
  },
  {
   "cell_type": "markdown",
   "metadata": {},
   "source": [
    "#### Write a program to check whether a triangle is valid or not, when the three angles of the triangle are entered through the keyboard. A triangle is valid if the sum of all the three angles is equal to 180 degrees.\n"
   ]
  },
  {
   "cell_type": "code",
   "execution_count": 47,
   "metadata": {},
   "outputs": [
    {
     "name": "stdout",
     "output_type": "stream",
     "text": [
      "Angle 1 : 70\n",
      "Angle 2 : 70\n",
      "Angle 3 : 70\n",
      "\n",
      "The triangle is invalid.\n"
     ]
    }
   ],
   "source": [
    "def valid(x,y,z):\n",
    "    if(x+y+z == 180):\n",
    "        print(\"The triangle is valid.\")\n",
    "    else:\n",
    "        print(\"The triangle is invalid.\")\n",
    "    \n",
    "x = int(input(\"Angle 1 : \"))\n",
    "y = int(input(\"Angle 2 : \"))\n",
    "z = int(input(\"Angle 3 : \"))\n",
    "\n",
    "print('')\n",
    "valid(x,y,z)"
   ]
  },
  {
   "cell_type": "markdown",
   "metadata": {},
   "source": [
    "#### Find the absolute value of a number entered through the keyboard.\n"
   ]
  },
  {
   "cell_type": "code",
   "execution_count": 49,
   "metadata": {},
   "outputs": [
    {
     "name": "stdout",
     "output_type": "stream",
     "text": [
      "Enter a number : 90\n",
      "Absolute Value : 90\n"
     ]
    }
   ],
   "source": [
    "num = int(input(\"Enter a number : \"))\n",
    "Abs = abs(num)\n",
    "print(\"Absolute Value :\",Abs)"
   ]
  },
  {
   "cell_type": "markdown",
   "metadata": {},
   "source": [
    "#### Given three points (x1, y1), (x2, y2) and (x3, y3), write a program to check if all the three points fall on one straight line."
   ]
  },
  {
   "cell_type": "code",
   "execution_count": 50,
   "metadata": {},
   "outputs": [
    {
     "name": "stdout",
     "output_type": "stream",
     "text": [
      "These points are in one straight Line.\n"
     ]
    }
   ],
   "source": [
    "def col(x1,y1,x2,y2,x3,y3):\n",
    "    a = x1 * (y2 - y3) + x2 * (y3 - y1) + x3 * (y1 - y2)\n",
    "    if (a == 0):\n",
    "        print(\"These points are in one straight Line.\")\n",
    "    else:\n",
    "        print(\"No, these points are not in one straight Line.\")\n",
    "\n",
    "x1,x2,x3,y1,y2,y3 = 1,2,3,4,5,6\n",
    "col(x1,y1,x2,y2,x3,y3)"
   ]
  },
  {
   "cell_type": "markdown",
   "metadata": {},
   "source": [
    "#### Given a point (x, y), write a program to find out if it lies on the x-axis, y-axis or at the origin, viz. (0, 0)."
   ]
  },
  {
   "cell_type": "code",
   "execution_count": 54,
   "metadata": {},
   "outputs": [
    {
     "name": "stdout",
     "output_type": "stream",
     "text": [
      "Enter the value for x = 0\n",
      "Enter the value for y = 8\n",
      "\n",
      "Point (0,8) lies on the Y-axis\n"
     ]
    }
   ],
   "source": [
    "x = int(input(\"Enter the value for x = \"))\n",
    "y = int(input(\"Enter the value for y = \"))\n",
    "print('')\n",
    "if (x == 0) and (y == 0):\n",
    "    print(\"Point ({},{}) lies on the origin.\".format(x,y))\n",
    "elif(x == 0):\n",
    "    print(\"Point ({},{}) lies on the Y-axis\".format(x,y))\n",
    "elif(y == 0):\n",
    "    print(\"Point ({},{}) lies on the X-axis\".format(x,y))\n",
    "else:\n",
    "    print(\"Point ({},{}) neither lies on X-axis nor on Y-axis.\".format(x,y))"
   ]
  },
  {
   "cell_type": "markdown",
   "metadata": {},
   "source": [
    "#### A certain grade of steel is graded according to the following conditions:\n",
    "(i) Hardness must be greater than 50\n",
    "(ii) Carbon content must be less than 0.7\n",
    "(iii) Tensile strength must be greater than 5600\n",
    "\n",
    "The grades are as follows:\n",
    "\n",
    "Grade is 10 if all three conditions are met.  \n",
    "Grade is 9 if conditions (i) and (ii) are met.  \n",
    "Grade is 8 if conditions (ii) and (iii) are met.  \n",
    "Grade is 7 if conditions (i) and (iii) are met.  \n",
    "Grade is 6 if only one condition is met.  \n",
    "Grade is 5 if none of the conditions are met.  \n",
    "\n",
    "Write a program, which will require the user to give values of hardness, carbon content and tensile strength of the steel under consideration and output the grade of the steel.\n",
    "\n"
   ]
  },
  {
   "cell_type": "code",
   "execution_count": 59,
   "metadata": {},
   "outputs": [
    {
     "name": "stdout",
     "output_type": "stream",
     "text": [
      "Enter the value of hardness : 55\n",
      "Enter the value of carbon content : 0.9\n",
      "Enter the value of tensile strenght : 500\n",
      "\n",
      "Grade of the steel : 9 \n"
     ]
    }
   ],
   "source": [
    "hard = int(input(\"Enter the value of hardness : \"))\n",
    "carb = float(input(\"Enter the value of carbon content : \"))\n",
    "tens = int(input(\"Enter the value of tensile strenght : \"))\n",
    "print('')\n",
    "if (hard > 50) and (carb > 0.7) and (tens > 5600):\n",
    "    print(\"Grade of the steel : 10 \")\n",
    "elif (hard > 50) and (carb > 0.7):\n",
    "    print(\"Grade of the steel : 9 \")\n",
    "elif (carb > 0.7) and (tens > 5600):\n",
    "    print(\"Grade of the steel : 8 \")\n",
    "elif (hard > 50) and (tens > 5600):\n",
    "    print(\"Grade of the steel : 7 \")\n",
    "elif (hard > 50) or (carb > 0.7) or (tens > 5600):\n",
    "    print(\"Grade of the steel : 6 \")\n",
    "else:\n",
    "    print(\"Grade of the steel : 5 \")"
   ]
  },
  {
   "cell_type": "markdown",
   "metadata": {},
   "source": [
    "#### A library charges a fine for every book returned late. For first 5 days the fine is 50 paise, for 6-10 days fine is one rupee and above 10 days fine is 5 rupees. If you return the book after 30 days your membership will be cancelled. Write a program to accept the number of days the member is late to return the book and display the fine or the appropriate message."
   ]
  },
  {
   "cell_type": "code",
   "execution_count": 69,
   "metadata": {},
   "outputs": [
    {
     "name": "stdout",
     "output_type": "stream",
     "text": [
      "Enter the number of days you are late : 2\n",
      "\n",
      "Your fine is 0.5 ₹ .\n"
     ]
    }
   ],
   "source": [
    "days = int(input(\"Enter the number of days you are late : \"))\n",
    "fine = 0 \n",
    "print('')\n",
    "if days <= 5:\n",
    "    fine = fine+0.5\n",
    "    print(\"Your fine is {} ₹ .\".format(fine))\n",
    "elif (days >= 6) and  (days <=10):\n",
    "    fine = fine+1\n",
    "    print(\" Your fine is {} ₹ .\".format(fine))\n",
    "elif (days > 10) and (days <=30):\n",
    "    fine = fine+5\n",
    "    print(\" Your fine is {} ₹ .\".format(fine))\n",
    "else:\n",
    "    print(\"Sorry , your membership tends to be cancelled.\")"
   ]
  },
  {
   "cell_type": "markdown",
   "metadata": {},
   "source": [
    "**The policy followed by a company to process customer orders is given by the following\n",
    "rules:\n",
    "a. If a customer order is less than or equal to that in stock and has credit is OK,\n",
    "supply has requirement.\n",
    "b. If has credit is not OK do not supply. Send him intimation.\n",
    "c. If has credit is Ok but the item in stock is less than has\n",
    "order, supply what is in stock. Intimate to him data the balance will be shipped. Write a\n",
    "program to implement the company policy.**"
   ]
  },
  {
   "cell_type": "code",
   "execution_count": 49,
   "metadata": {},
   "outputs": [
    {
     "name": "stdout",
     "output_type": "stream",
     "text": [
      "Enter your Order Quantity : 700\n",
      "How is your Credit Report? 'Ok' or 'NotOk' : ok\n",
      "\n",
      "Number of items we will ship now 500.\n",
      "\n",
      "Rest of the items would be sent soon.\n"
     ]
    }
   ],
   "source": [
    "instock = 500\n",
    "order_quantity = int(input(\"Enter your Order Quantity : \"))\n",
    "credit = str(input(\"How is your Credit Report? 'Ok' or 'NotOk' : \"))\n",
    "\n",
    "if (order_quantity <= instock) and ((credit == \"ok\") or (credit == \"OK\") or (credit == \"Ok\")):\n",
    "    print(\"\\nSupply has met requirements.\")\n",
    "elif (credit == 'Notok' or credit == 'NotOk' or credit == \"notok\"):\n",
    "    print(\"\\nDo not Supply ! \")\n",
    "    print(\"\\nSend him Intimation right now.\")\n",
    "elif (order_quantity > instock) and ((credit == \"ok\") or (credit == \"OK\") or (credit == \"Ok\")):\n",
    "    print(\"\\nNumber of items we will ship now {}.\".format(instock))\n",
    "    print(\"\\nRest of the items would be sent soon.\")"
   ]
  },
  {
   "cell_type": "markdown",
   "metadata": {},
   "source": [
    "**In a company, worker efficiency is determined on the basis of the time required for a\n",
    "worker to complete a particular job. If the time taken by the worker is between 2 – 3\n",
    "hours, then the worker is said to be highly efficient. If the time required by the worker is\n",
    "between 3 – 4 hours, then the worker is ordered to improve speed. If the time taken is\n",
    "between 4 – 5 hours, the worker is given training to improve his speed, and if the time\n",
    "taken by the worker is more than 5 hours, then the worker has to leave the company. If\n",
    "the time taken by the worker is input through the keyboard, find the efficiency of the\n",
    "worker.**"
   ]
  },
  {
   "cell_type": "code",
   "execution_count": 32,
   "metadata": {},
   "outputs": [
    {
     "name": "stdout",
     "output_type": "stream",
     "text": [
      "Enter the hours needed by you to complete the task : 6\n",
      "Worker is terminated.\n"
     ]
    }
   ],
   "source": [
    "work_eff = int(input(\"Enter the hours needed by you to complete the task : \"))\n",
    "\n",
    "if 2 <= work_eff <= 3:\n",
    "    print(\"Worker is highly efficient.\")\n",
    "elif 3 <= work_eff <= 4:\n",
    "    print(\"Worker needs to improve speed.\")\n",
    "elif 4 <= work_eff <= 5:\n",
    "    print(\"Give training to worker.\")\n",
    "elif work_eff > 5:\n",
    "    print(\"Worker is terminated.\")\n"
   ]
  },
  {
   "cell_type": "markdown",
   "metadata": {},
   "source": [
    "**A university has the following rules for a student to qualify for a degree with A as the\n",
    "main subject and B as the subsidiary subject:\n",
    "a. He should get 55 percent or more in A and 45 percent or more in B.\n",
    "b. If he gets than 55 percent in A he should get 55 percent or more in B. However,\n",
    "he should get at least 45 percent in A.\n",
    "c. If he gets less than 45 percent in B and 65 percent or more in A he is allowed to\n",
    "reappear in an examination in B to qualify.\n",
    "d. In all other cases he is declared to have failed.\n",
    "Write a program to receive marks in A and B and Output whether the student has\n",
    "passed, failed or is allowed to reappear in B.**"
   ]
  },
  {
   "cell_type": "code",
   "execution_count": 38,
   "metadata": {},
   "outputs": [
    {
     "name": "stdout",
     "output_type": "stream",
     "text": [
      "Enter the percent you got in Subject A : 40\n",
      "Enter the percent you got in Subject B : 90\n",
      "\n",
      "Sorry! You've failed.\n"
     ]
    }
   ],
   "source": [
    "sub_a = int(input(\"Enter the percent you got in Subject A : \"))\n",
    "sub_b = int(input(\"Enter the percent you got in Subject B : \"))\n",
    "\n",
    "if (sub_a >= 55) and (sub_b >= 45):\n",
    "    print(\"\\nCongrats! You've qualified for your degree.\")\n",
    "elif (sub_a >= 65) and (sub_a > 45):\n",
    "    print(\"\\nYou're eligible to reappear for examination of Subject B.\")\n",
    "else:\n",
    "    print(\"\\nSorry! You've failed.\")"
   ]
  },
  {
   "cell_type": "code",
   "execution_count": null,
   "metadata": {},
   "outputs": [],
   "source": []
  },
  {
   "cell_type": "code",
   "execution_count": null,
   "metadata": {},
   "outputs": [],
   "source": []
  }
 ],
 "metadata": {
  "kernelspec": {
   "display_name": "Python 3",
   "language": "python",
   "name": "python3"
  },
  "language_info": {
   "codemirror_mode": {
    "name": "ipython",
    "version": 3
   },
   "file_extension": ".py",
   "mimetype": "text/x-python",
   "name": "python",
   "nbconvert_exporter": "python",
   "pygments_lexer": "ipython3",
   "version": "3.8.8"
  }
 },
 "nbformat": 4,
 "nbformat_minor": 4
}
